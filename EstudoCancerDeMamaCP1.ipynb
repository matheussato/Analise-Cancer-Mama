{
  "nbformat": 4,
  "nbformat_minor": 0,
  "metadata": {
    "colab": {
      "provenance": [],
      "include_colab_link": true
    },
    "kernelspec": {
      "name": "python3",
      "display_name": "Python 3"
    },
    "language_info": {
      "name": "python"
    }
  },
  "cells": [
    {
      "cell_type": "markdown",
      "metadata": {
        "id": "view-in-github",
        "colab_type": "text"
      },
      "source": [
        "<a href=\"https://colab.research.google.com/github/matheussato/Analise-Cancer-Mama/blob/main/EstudoCancerDeMamaCP1.ipynb\" target=\"_parent\"><img src=\"https://colab.research.google.com/assets/colab-badge.svg\" alt=\"Open In Colab\"/></a>"
      ]
    },
    {
      "cell_type": "markdown",
      "source": [
        "### Imports"
      ],
      "metadata": {
        "id": "H9wvMB_8GHy9"
      }
    },
    {
      "cell_type": "code",
      "execution_count": null,
      "metadata": {
        "id": "O6wBkxDPuBkF"
      },
      "outputs": [],
      "source": [
        "import numpy as np\n",
        "import pandas as pd\n",
        "from sklearn.neighbors import KNeighborsClassifier\n",
        "from sklearn.neural_network import MLPClassifier\n",
        "from sklearn.metrics import accuracy_score\n",
        "df = pd.read_csv(\"breast-cancer.data\")"
      ]
    },
    {
      "cell_type": "markdown",
      "source": [
        "### Renomeando as colunas para melhor entendimento do dataset"
      ],
      "metadata": {
        "id": "WZpIMDT99xib"
      }
    },
    {
      "cell_type": "code",
      "source": [
        "df.rename(columns={'no-recurrence-events' : 'eventos_recorrentes'}, inplace=True)\n",
        "df.rename(columns={'30-39': 'idade'}, inplace=True)\n",
        "df.rename(columns={'premeno': 'menopausa'}, inplace=True)\n",
        "df.rename(columns={'30-34': 'tamanho_tumor'}, inplace=True)\n",
        "df.rename(columns={'0-2': 'numero_linfonodos'}, inplace=True)\n",
        "df.rename(columns={'no': 'pen_linfonodos'}, inplace=True)\n",
        "df.rename(columns={'3': 'grau_malignidade'}, inplace=True)\n",
        "df.rename(columns={'left': 'mama'}, inplace=True)\n",
        "df.rename(columns={'left_low': 'quadrante_afetado'}, inplace=True)\n",
        "df.rename(columns={'no.1': 'radioterapia'}, inplace=True)\n",
        "df.head(10)"
      ],
      "metadata": {
        "colab": {
          "base_uri": "https://localhost:8080/",
          "height": 363
        },
        "id": "IcYg9Pq49vtK",
        "outputId": "75de459e-c6cf-4e18-d877-b653ce520754"
      },
      "execution_count": null,
      "outputs": [
        {
          "output_type": "execute_result",
          "data": {
            "text/plain": [
              "    eventos_recorrentes  idade menopausa tamanho_tumor numero_linfonodos  \\\n",
              "0  no-recurrence-events  40-49   premeno         20-24               0-2   \n",
              "1  no-recurrence-events  40-49   premeno         20-24               0-2   \n",
              "2  no-recurrence-events  60-69      ge40         15-19               0-2   \n",
              "3  no-recurrence-events  40-49   premeno           0-4               0-2   \n",
              "4  no-recurrence-events  60-69      ge40         15-19               0-2   \n",
              "5  no-recurrence-events  50-59   premeno         25-29               0-2   \n",
              "6  no-recurrence-events  60-69      ge40         20-24               0-2   \n",
              "7  no-recurrence-events  40-49   premeno         50-54               0-2   \n",
              "8  no-recurrence-events  40-49   premeno         20-24               0-2   \n",
              "9  no-recurrence-events  40-49   premeno           0-4               0-2   \n",
              "\n",
              "  pen_linfonodos  grau_malignidade   mama quadrante_afetado radioterapia  \n",
              "0             no                 2  right          right_up           no  \n",
              "1             no                 2   left          left_low           no  \n",
              "2             no                 2  right           left_up           no  \n",
              "3             no                 2  right         right_low           no  \n",
              "4             no                 2   left          left_low           no  \n",
              "5             no                 2   left          left_low           no  \n",
              "6             no                 1   left          left_low           no  \n",
              "7             no                 2   left          left_low           no  \n",
              "8             no                 2  right           left_up           no  \n",
              "9             no                 3   left           central           no  "
            ],
            "text/html": [
              "\n",
              "  <div id=\"df-4040fd43-6db2-4e71-b305-74201f671a9c\">\n",
              "    <div class=\"colab-df-container\">\n",
              "      <div>\n",
              "<style scoped>\n",
              "    .dataframe tbody tr th:only-of-type {\n",
              "        vertical-align: middle;\n",
              "    }\n",
              "\n",
              "    .dataframe tbody tr th {\n",
              "        vertical-align: top;\n",
              "    }\n",
              "\n",
              "    .dataframe thead th {\n",
              "        text-align: right;\n",
              "    }\n",
              "</style>\n",
              "<table border=\"1\" class=\"dataframe\">\n",
              "  <thead>\n",
              "    <tr style=\"text-align: right;\">\n",
              "      <th></th>\n",
              "      <th>eventos_recorrentes</th>\n",
              "      <th>idade</th>\n",
              "      <th>menopausa</th>\n",
              "      <th>tamanho_tumor</th>\n",
              "      <th>numero_linfonodos</th>\n",
              "      <th>pen_linfonodos</th>\n",
              "      <th>grau_malignidade</th>\n",
              "      <th>mama</th>\n",
              "      <th>quadrante_afetado</th>\n",
              "      <th>radioterapia</th>\n",
              "    </tr>\n",
              "  </thead>\n",
              "  <tbody>\n",
              "    <tr>\n",
              "      <th>0</th>\n",
              "      <td>no-recurrence-events</td>\n",
              "      <td>40-49</td>\n",
              "      <td>premeno</td>\n",
              "      <td>20-24</td>\n",
              "      <td>0-2</td>\n",
              "      <td>no</td>\n",
              "      <td>2</td>\n",
              "      <td>right</td>\n",
              "      <td>right_up</td>\n",
              "      <td>no</td>\n",
              "    </tr>\n",
              "    <tr>\n",
              "      <th>1</th>\n",
              "      <td>no-recurrence-events</td>\n",
              "      <td>40-49</td>\n",
              "      <td>premeno</td>\n",
              "      <td>20-24</td>\n",
              "      <td>0-2</td>\n",
              "      <td>no</td>\n",
              "      <td>2</td>\n",
              "      <td>left</td>\n",
              "      <td>left_low</td>\n",
              "      <td>no</td>\n",
              "    </tr>\n",
              "    <tr>\n",
              "      <th>2</th>\n",
              "      <td>no-recurrence-events</td>\n",
              "      <td>60-69</td>\n",
              "      <td>ge40</td>\n",
              "      <td>15-19</td>\n",
              "      <td>0-2</td>\n",
              "      <td>no</td>\n",
              "      <td>2</td>\n",
              "      <td>right</td>\n",
              "      <td>left_up</td>\n",
              "      <td>no</td>\n",
              "    </tr>\n",
              "    <tr>\n",
              "      <th>3</th>\n",
              "      <td>no-recurrence-events</td>\n",
              "      <td>40-49</td>\n",
              "      <td>premeno</td>\n",
              "      <td>0-4</td>\n",
              "      <td>0-2</td>\n",
              "      <td>no</td>\n",
              "      <td>2</td>\n",
              "      <td>right</td>\n",
              "      <td>right_low</td>\n",
              "      <td>no</td>\n",
              "    </tr>\n",
              "    <tr>\n",
              "      <th>4</th>\n",
              "      <td>no-recurrence-events</td>\n",
              "      <td>60-69</td>\n",
              "      <td>ge40</td>\n",
              "      <td>15-19</td>\n",
              "      <td>0-2</td>\n",
              "      <td>no</td>\n",
              "      <td>2</td>\n",
              "      <td>left</td>\n",
              "      <td>left_low</td>\n",
              "      <td>no</td>\n",
              "    </tr>\n",
              "    <tr>\n",
              "      <th>5</th>\n",
              "      <td>no-recurrence-events</td>\n",
              "      <td>50-59</td>\n",
              "      <td>premeno</td>\n",
              "      <td>25-29</td>\n",
              "      <td>0-2</td>\n",
              "      <td>no</td>\n",
              "      <td>2</td>\n",
              "      <td>left</td>\n",
              "      <td>left_low</td>\n",
              "      <td>no</td>\n",
              "    </tr>\n",
              "    <tr>\n",
              "      <th>6</th>\n",
              "      <td>no-recurrence-events</td>\n",
              "      <td>60-69</td>\n",
              "      <td>ge40</td>\n",
              "      <td>20-24</td>\n",
              "      <td>0-2</td>\n",
              "      <td>no</td>\n",
              "      <td>1</td>\n",
              "      <td>left</td>\n",
              "      <td>left_low</td>\n",
              "      <td>no</td>\n",
              "    </tr>\n",
              "    <tr>\n",
              "      <th>7</th>\n",
              "      <td>no-recurrence-events</td>\n",
              "      <td>40-49</td>\n",
              "      <td>premeno</td>\n",
              "      <td>50-54</td>\n",
              "      <td>0-2</td>\n",
              "      <td>no</td>\n",
              "      <td>2</td>\n",
              "      <td>left</td>\n",
              "      <td>left_low</td>\n",
              "      <td>no</td>\n",
              "    </tr>\n",
              "    <tr>\n",
              "      <th>8</th>\n",
              "      <td>no-recurrence-events</td>\n",
              "      <td>40-49</td>\n",
              "      <td>premeno</td>\n",
              "      <td>20-24</td>\n",
              "      <td>0-2</td>\n",
              "      <td>no</td>\n",
              "      <td>2</td>\n",
              "      <td>right</td>\n",
              "      <td>left_up</td>\n",
              "      <td>no</td>\n",
              "    </tr>\n",
              "    <tr>\n",
              "      <th>9</th>\n",
              "      <td>no-recurrence-events</td>\n",
              "      <td>40-49</td>\n",
              "      <td>premeno</td>\n",
              "      <td>0-4</td>\n",
              "      <td>0-2</td>\n",
              "      <td>no</td>\n",
              "      <td>3</td>\n",
              "      <td>left</td>\n",
              "      <td>central</td>\n",
              "      <td>no</td>\n",
              "    </tr>\n",
              "  </tbody>\n",
              "</table>\n",
              "</div>\n",
              "      <button class=\"colab-df-convert\" onclick=\"convertToInteractive('df-4040fd43-6db2-4e71-b305-74201f671a9c')\"\n",
              "              title=\"Convert this dataframe to an interactive table.\"\n",
              "              style=\"display:none;\">\n",
              "        \n",
              "  <svg xmlns=\"http://www.w3.org/2000/svg\" height=\"24px\"viewBox=\"0 0 24 24\"\n",
              "       width=\"24px\">\n",
              "    <path d=\"M0 0h24v24H0V0z\" fill=\"none\"/>\n",
              "    <path d=\"M18.56 5.44l.94 2.06.94-2.06 2.06-.94-2.06-.94-.94-2.06-.94 2.06-2.06.94zm-11 1L8.5 8.5l.94-2.06 2.06-.94-2.06-.94L8.5 2.5l-.94 2.06-2.06.94zm10 10l.94 2.06.94-2.06 2.06-.94-2.06-.94-.94-2.06-.94 2.06-2.06.94z\"/><path d=\"M17.41 7.96l-1.37-1.37c-.4-.4-.92-.59-1.43-.59-.52 0-1.04.2-1.43.59L10.3 9.45l-7.72 7.72c-.78.78-.78 2.05 0 2.83L4 21.41c.39.39.9.59 1.41.59.51 0 1.02-.2 1.41-.59l7.78-7.78 2.81-2.81c.8-.78.8-2.07 0-2.86zM5.41 20L4 18.59l7.72-7.72 1.47 1.35L5.41 20z\"/>\n",
              "  </svg>\n",
              "      </button>\n",
              "      \n",
              "  <style>\n",
              "    .colab-df-container {\n",
              "      display:flex;\n",
              "      flex-wrap:wrap;\n",
              "      gap: 12px;\n",
              "    }\n",
              "\n",
              "    .colab-df-convert {\n",
              "      background-color: #E8F0FE;\n",
              "      border: none;\n",
              "      border-radius: 50%;\n",
              "      cursor: pointer;\n",
              "      display: none;\n",
              "      fill: #1967D2;\n",
              "      height: 32px;\n",
              "      padding: 0 0 0 0;\n",
              "      width: 32px;\n",
              "    }\n",
              "\n",
              "    .colab-df-convert:hover {\n",
              "      background-color: #E2EBFA;\n",
              "      box-shadow: 0px 1px 2px rgba(60, 64, 67, 0.3), 0px 1px 3px 1px rgba(60, 64, 67, 0.15);\n",
              "      fill: #174EA6;\n",
              "    }\n",
              "\n",
              "    [theme=dark] .colab-df-convert {\n",
              "      background-color: #3B4455;\n",
              "      fill: #D2E3FC;\n",
              "    }\n",
              "\n",
              "    [theme=dark] .colab-df-convert:hover {\n",
              "      background-color: #434B5C;\n",
              "      box-shadow: 0px 1px 3px 1px rgba(0, 0, 0, 0.15);\n",
              "      filter: drop-shadow(0px 1px 2px rgba(0, 0, 0, 0.3));\n",
              "      fill: #FFFFFF;\n",
              "    }\n",
              "  </style>\n",
              "\n",
              "      <script>\n",
              "        const buttonEl =\n",
              "          document.querySelector('#df-4040fd43-6db2-4e71-b305-74201f671a9c button.colab-df-convert');\n",
              "        buttonEl.style.display =\n",
              "          google.colab.kernel.accessAllowed ? 'block' : 'none';\n",
              "\n",
              "        async function convertToInteractive(key) {\n",
              "          const element = document.querySelector('#df-4040fd43-6db2-4e71-b305-74201f671a9c');\n",
              "          const dataTable =\n",
              "            await google.colab.kernel.invokeFunction('convertToInteractive',\n",
              "                                                     [key], {});\n",
              "          if (!dataTable) return;\n",
              "\n",
              "          const docLinkHtml = 'Like what you see? Visit the ' +\n",
              "            '<a target=\"_blank\" href=https://colab.research.google.com/notebooks/data_table.ipynb>data table notebook</a>'\n",
              "            + ' to learn more about interactive tables.';\n",
              "          element.innerHTML = '';\n",
              "          dataTable['output_type'] = 'display_data';\n",
              "          await google.colab.output.renderOutput(dataTable, element);\n",
              "          const docLink = document.createElement('div');\n",
              "          docLink.innerHTML = docLinkHtml;\n",
              "          element.appendChild(docLink);\n",
              "        }\n",
              "      </script>\n",
              "    </div>\n",
              "  </div>\n",
              "  "
            ]
          },
          "metadata": {},
          "execution_count": 2
        }
      ]
    },
    {
      "cell_type": "markdown",
      "source": [
        "### Colocando o dataframe em ordem por eventos_recorrentes"
      ],
      "metadata": {
        "id": "TEFoh4llGAs-"
      }
    },
    {
      "cell_type": "code",
      "source": [
        "df = df.sort_values('eventos_recorrentes', ascending=False)\n",
        "df"
      ],
      "metadata": {
        "id": "k8hM7P7B_iqd",
        "colab": {
          "base_uri": "https://localhost:8080/",
          "height": 424
        },
        "outputId": "08027f6e-800d-468b-d021-9502fb298340"
      },
      "execution_count": null,
      "outputs": [
        {
          "output_type": "execute_result",
          "data": {
            "text/plain": [
              "      eventos_recorrentes  idade menopausa tamanho_tumor numero_linfonodos  \\\n",
              "284     recurrence-events  50-59      ge40         30-34               3-5   \n",
              "231     recurrence-events  30-39   premeno         30-34               3-5   \n",
              "223     recurrence-events  30-39   premeno         25-29               3-5   \n",
              "224     recurrence-events  40-49      ge40         20-24               3-5   \n",
              "225     recurrence-events  40-49   premeno         30-34             15-17   \n",
              "..                    ...    ...       ...           ...               ...   \n",
              "101  no-recurrence-events  50-59   premeno         25-29               0-2   \n",
              "102  no-recurrence-events  40-49   premeno         20-24               0-2   \n",
              "103  no-recurrence-events  40-49   premeno         10-14               0-2   \n",
              "104  no-recurrence-events  40-49   premeno         30-34               0-2   \n",
              "142  no-recurrence-events  40-49   premeno         45-49               0-2   \n",
              "\n",
              "    pen_linfonodos  grau_malignidade   mama quadrante_afetado radioterapia  \n",
              "284             no                 3   left          left_low           no  \n",
              "231             no                 3  right           left_up          yes  \n",
              "223            yes                 3   left          left_low          yes  \n",
              "224             no                 3  right          left_low          yes  \n",
              "225            yes                 3   left          left_low           no  \n",
              "..             ...               ...    ...               ...          ...  \n",
              "101             no                 2  right         right_low           no  \n",
              "102             no                 2   left         right_low           no  \n",
              "103             no                 2  right          left_low           no  \n",
              "104             no                 1  right           left_up           no  \n",
              "142             no                 2   left          left_low          yes  \n",
              "\n",
              "[285 rows x 10 columns]"
            ],
            "text/html": [
              "\n",
              "  <div id=\"df-56cce1de-a67a-4299-b295-b42044953534\">\n",
              "    <div class=\"colab-df-container\">\n",
              "      <div>\n",
              "<style scoped>\n",
              "    .dataframe tbody tr th:only-of-type {\n",
              "        vertical-align: middle;\n",
              "    }\n",
              "\n",
              "    .dataframe tbody tr th {\n",
              "        vertical-align: top;\n",
              "    }\n",
              "\n",
              "    .dataframe thead th {\n",
              "        text-align: right;\n",
              "    }\n",
              "</style>\n",
              "<table border=\"1\" class=\"dataframe\">\n",
              "  <thead>\n",
              "    <tr style=\"text-align: right;\">\n",
              "      <th></th>\n",
              "      <th>eventos_recorrentes</th>\n",
              "      <th>idade</th>\n",
              "      <th>menopausa</th>\n",
              "      <th>tamanho_tumor</th>\n",
              "      <th>numero_linfonodos</th>\n",
              "      <th>pen_linfonodos</th>\n",
              "      <th>grau_malignidade</th>\n",
              "      <th>mama</th>\n",
              "      <th>quadrante_afetado</th>\n",
              "      <th>radioterapia</th>\n",
              "    </tr>\n",
              "  </thead>\n",
              "  <tbody>\n",
              "    <tr>\n",
              "      <th>284</th>\n",
              "      <td>recurrence-events</td>\n",
              "      <td>50-59</td>\n",
              "      <td>ge40</td>\n",
              "      <td>30-34</td>\n",
              "      <td>3-5</td>\n",
              "      <td>no</td>\n",
              "      <td>3</td>\n",
              "      <td>left</td>\n",
              "      <td>left_low</td>\n",
              "      <td>no</td>\n",
              "    </tr>\n",
              "    <tr>\n",
              "      <th>231</th>\n",
              "      <td>recurrence-events</td>\n",
              "      <td>30-39</td>\n",
              "      <td>premeno</td>\n",
              "      <td>30-34</td>\n",
              "      <td>3-5</td>\n",
              "      <td>no</td>\n",
              "      <td>3</td>\n",
              "      <td>right</td>\n",
              "      <td>left_up</td>\n",
              "      <td>yes</td>\n",
              "    </tr>\n",
              "    <tr>\n",
              "      <th>223</th>\n",
              "      <td>recurrence-events</td>\n",
              "      <td>30-39</td>\n",
              "      <td>premeno</td>\n",
              "      <td>25-29</td>\n",
              "      <td>3-5</td>\n",
              "      <td>yes</td>\n",
              "      <td>3</td>\n",
              "      <td>left</td>\n",
              "      <td>left_low</td>\n",
              "      <td>yes</td>\n",
              "    </tr>\n",
              "    <tr>\n",
              "      <th>224</th>\n",
              "      <td>recurrence-events</td>\n",
              "      <td>40-49</td>\n",
              "      <td>ge40</td>\n",
              "      <td>20-24</td>\n",
              "      <td>3-5</td>\n",
              "      <td>no</td>\n",
              "      <td>3</td>\n",
              "      <td>right</td>\n",
              "      <td>left_low</td>\n",
              "      <td>yes</td>\n",
              "    </tr>\n",
              "    <tr>\n",
              "      <th>225</th>\n",
              "      <td>recurrence-events</td>\n",
              "      <td>40-49</td>\n",
              "      <td>premeno</td>\n",
              "      <td>30-34</td>\n",
              "      <td>15-17</td>\n",
              "      <td>yes</td>\n",
              "      <td>3</td>\n",
              "      <td>left</td>\n",
              "      <td>left_low</td>\n",
              "      <td>no</td>\n",
              "    </tr>\n",
              "    <tr>\n",
              "      <th>...</th>\n",
              "      <td>...</td>\n",
              "      <td>...</td>\n",
              "      <td>...</td>\n",
              "      <td>...</td>\n",
              "      <td>...</td>\n",
              "      <td>...</td>\n",
              "      <td>...</td>\n",
              "      <td>...</td>\n",
              "      <td>...</td>\n",
              "      <td>...</td>\n",
              "    </tr>\n",
              "    <tr>\n",
              "      <th>101</th>\n",
              "      <td>no-recurrence-events</td>\n",
              "      <td>50-59</td>\n",
              "      <td>premeno</td>\n",
              "      <td>25-29</td>\n",
              "      <td>0-2</td>\n",
              "      <td>no</td>\n",
              "      <td>2</td>\n",
              "      <td>right</td>\n",
              "      <td>right_low</td>\n",
              "      <td>no</td>\n",
              "    </tr>\n",
              "    <tr>\n",
              "      <th>102</th>\n",
              "      <td>no-recurrence-events</td>\n",
              "      <td>40-49</td>\n",
              "      <td>premeno</td>\n",
              "      <td>20-24</td>\n",
              "      <td>0-2</td>\n",
              "      <td>no</td>\n",
              "      <td>2</td>\n",
              "      <td>left</td>\n",
              "      <td>right_low</td>\n",
              "      <td>no</td>\n",
              "    </tr>\n",
              "    <tr>\n",
              "      <th>103</th>\n",
              "      <td>no-recurrence-events</td>\n",
              "      <td>40-49</td>\n",
              "      <td>premeno</td>\n",
              "      <td>10-14</td>\n",
              "      <td>0-2</td>\n",
              "      <td>no</td>\n",
              "      <td>2</td>\n",
              "      <td>right</td>\n",
              "      <td>left_low</td>\n",
              "      <td>no</td>\n",
              "    </tr>\n",
              "    <tr>\n",
              "      <th>104</th>\n",
              "      <td>no-recurrence-events</td>\n",
              "      <td>40-49</td>\n",
              "      <td>premeno</td>\n",
              "      <td>30-34</td>\n",
              "      <td>0-2</td>\n",
              "      <td>no</td>\n",
              "      <td>1</td>\n",
              "      <td>right</td>\n",
              "      <td>left_up</td>\n",
              "      <td>no</td>\n",
              "    </tr>\n",
              "    <tr>\n",
              "      <th>142</th>\n",
              "      <td>no-recurrence-events</td>\n",
              "      <td>40-49</td>\n",
              "      <td>premeno</td>\n",
              "      <td>45-49</td>\n",
              "      <td>0-2</td>\n",
              "      <td>no</td>\n",
              "      <td>2</td>\n",
              "      <td>left</td>\n",
              "      <td>left_low</td>\n",
              "      <td>yes</td>\n",
              "    </tr>\n",
              "  </tbody>\n",
              "</table>\n",
              "<p>285 rows × 10 columns</p>\n",
              "</div>\n",
              "      <button class=\"colab-df-convert\" onclick=\"convertToInteractive('df-56cce1de-a67a-4299-b295-b42044953534')\"\n",
              "              title=\"Convert this dataframe to an interactive table.\"\n",
              "              style=\"display:none;\">\n",
              "        \n",
              "  <svg xmlns=\"http://www.w3.org/2000/svg\" height=\"24px\"viewBox=\"0 0 24 24\"\n",
              "       width=\"24px\">\n",
              "    <path d=\"M0 0h24v24H0V0z\" fill=\"none\"/>\n",
              "    <path d=\"M18.56 5.44l.94 2.06.94-2.06 2.06-.94-2.06-.94-.94-2.06-.94 2.06-2.06.94zm-11 1L8.5 8.5l.94-2.06 2.06-.94-2.06-.94L8.5 2.5l-.94 2.06-2.06.94zm10 10l.94 2.06.94-2.06 2.06-.94-2.06-.94-.94-2.06-.94 2.06-2.06.94z\"/><path d=\"M17.41 7.96l-1.37-1.37c-.4-.4-.92-.59-1.43-.59-.52 0-1.04.2-1.43.59L10.3 9.45l-7.72 7.72c-.78.78-.78 2.05 0 2.83L4 21.41c.39.39.9.59 1.41.59.51 0 1.02-.2 1.41-.59l7.78-7.78 2.81-2.81c.8-.78.8-2.07 0-2.86zM5.41 20L4 18.59l7.72-7.72 1.47 1.35L5.41 20z\"/>\n",
              "  </svg>\n",
              "      </button>\n",
              "      \n",
              "  <style>\n",
              "    .colab-df-container {\n",
              "      display:flex;\n",
              "      flex-wrap:wrap;\n",
              "      gap: 12px;\n",
              "    }\n",
              "\n",
              "    .colab-df-convert {\n",
              "      background-color: #E8F0FE;\n",
              "      border: none;\n",
              "      border-radius: 50%;\n",
              "      cursor: pointer;\n",
              "      display: none;\n",
              "      fill: #1967D2;\n",
              "      height: 32px;\n",
              "      padding: 0 0 0 0;\n",
              "      width: 32px;\n",
              "    }\n",
              "\n",
              "    .colab-df-convert:hover {\n",
              "      background-color: #E2EBFA;\n",
              "      box-shadow: 0px 1px 2px rgba(60, 64, 67, 0.3), 0px 1px 3px 1px rgba(60, 64, 67, 0.15);\n",
              "      fill: #174EA6;\n",
              "    }\n",
              "\n",
              "    [theme=dark] .colab-df-convert {\n",
              "      background-color: #3B4455;\n",
              "      fill: #D2E3FC;\n",
              "    }\n",
              "\n",
              "    [theme=dark] .colab-df-convert:hover {\n",
              "      background-color: #434B5C;\n",
              "      box-shadow: 0px 1px 3px 1px rgba(0, 0, 0, 0.15);\n",
              "      filter: drop-shadow(0px 1px 2px rgba(0, 0, 0, 0.3));\n",
              "      fill: #FFFFFF;\n",
              "    }\n",
              "  </style>\n",
              "\n",
              "      <script>\n",
              "        const buttonEl =\n",
              "          document.querySelector('#df-56cce1de-a67a-4299-b295-b42044953534 button.colab-df-convert');\n",
              "        buttonEl.style.display =\n",
              "          google.colab.kernel.accessAllowed ? 'block' : 'none';\n",
              "\n",
              "        async function convertToInteractive(key) {\n",
              "          const element = document.querySelector('#df-56cce1de-a67a-4299-b295-b42044953534');\n",
              "          const dataTable =\n",
              "            await google.colab.kernel.invokeFunction('convertToInteractive',\n",
              "                                                     [key], {});\n",
              "          if (!dataTable) return;\n",
              "\n",
              "          const docLinkHtml = 'Like what you see? Visit the ' +\n",
              "            '<a target=\"_blank\" href=https://colab.research.google.com/notebooks/data_table.ipynb>data table notebook</a>'\n",
              "            + ' to learn more about interactive tables.';\n",
              "          element.innerHTML = '';\n",
              "          dataTable['output_type'] = 'display_data';\n",
              "          await google.colab.output.renderOutput(dataTable, element);\n",
              "          const docLink = document.createElement('div');\n",
              "          docLink.innerHTML = docLinkHtml;\n",
              "          element.appendChild(docLink);\n",
              "        }\n",
              "      </script>\n",
              "    </div>\n",
              "  </div>\n",
              "  "
            ]
          },
          "metadata": {},
          "execution_count": 3
        }
      ]
    },
    {
      "cell_type": "markdown",
      "source": [
        "### Deletando coluna que não utilizaremos"
      ],
      "metadata": {
        "id": "ZqwdpZA8-0Qj"
      }
    },
    {
      "cell_type": "code",
      "source": [
        "df = df.drop('mama', axis=1)"
      ],
      "metadata": {
        "id": "WZjw-Z09-zP-"
      },
      "execution_count": null,
      "outputs": []
    },
    {
      "cell_type": "markdown",
      "source": [
        "Pesquisando mais sobre o assunto entendemos que o lado afetado não interfere diretamente nos casos de recorrência da enfermidade,"
      ],
      "metadata": {
        "id": "CALgrNcQ7VoK"
      }
    },
    {
      "cell_type": "markdown",
      "source": [
        "### Calculando o percentual de dados faltantes do dataset"
      ],
      "metadata": {
        "id": "nCnETDae-Lc3"
      }
    },
    {
      "cell_type": "code",
      "source": [
        "def calcula_percentual_indefinido(dataframe, coluna):\n",
        "  indefinidos = dataframe.loc[pd.isna(dataframe[coluna]),coluna].shape[0]\n",
        "  total = dataframe[coluna].shape[0]\n",
        "\n",
        "  return (indefinidos/total)*100"
      ],
      "metadata": {
        "id": "7OUwNE8M-IB7"
      },
      "execution_count": null,
      "outputs": []
    },
    {
      "cell_type": "code",
      "source": [
        "calcula_percentual_indefinido(df, \"idade\")"
      ],
      "metadata": {
        "id": "FaV9ULPu-uBM",
        "colab": {
          "base_uri": "https://localhost:8080/"
        },
        "outputId": "3c171399-77dc-4f04-cfae-ed4a6ec89dfa"
      },
      "execution_count": null,
      "outputs": [
        {
          "output_type": "execute_result",
          "data": {
            "text/plain": [
              "0.0"
            ]
          },
          "metadata": {},
          "execution_count": 6
        }
      ]
    },
    {
      "cell_type": "code",
      "source": [
        "calcula_percentual_indefinido(df, \"menopausa\")"
      ],
      "metadata": {
        "id": "kxZt6XNb-9TD",
        "colab": {
          "base_uri": "https://localhost:8080/"
        },
        "outputId": "d8414c9c-e1cd-4a04-dc59-bdc96223545c"
      },
      "execution_count": null,
      "outputs": [
        {
          "output_type": "execute_result",
          "data": {
            "text/plain": [
              "0.0"
            ]
          },
          "metadata": {},
          "execution_count": 7
        }
      ]
    },
    {
      "cell_type": "code",
      "source": [
        "calcula_percentual_indefinido(df, \"tamanho_tumor\")"
      ],
      "metadata": {
        "id": "JhVJfGCO_A7K",
        "colab": {
          "base_uri": "https://localhost:8080/"
        },
        "outputId": "5ae27a96-4a46-4cfc-e20b-6bb341a94c2d"
      },
      "execution_count": null,
      "outputs": [
        {
          "output_type": "execute_result",
          "data": {
            "text/plain": [
              "0.0"
            ]
          },
          "metadata": {},
          "execution_count": 8
        }
      ]
    },
    {
      "cell_type": "code",
      "source": [
        "calcula_percentual_indefinido(df, \"numero_linfonodos\")"
      ],
      "metadata": {
        "id": "QIR5OPsC_A1U",
        "colab": {
          "base_uri": "https://localhost:8080/"
        },
        "outputId": "3c57eb78-beab-4e8d-e282-813219617152"
      },
      "execution_count": null,
      "outputs": [
        {
          "output_type": "execute_result",
          "data": {
            "text/plain": [
              "0.0"
            ]
          },
          "metadata": {},
          "execution_count": 9
        }
      ]
    },
    {
      "cell_type": "code",
      "source": [
        "calcula_percentual_indefinido(df, \"pen_linfonodos\")"
      ],
      "metadata": {
        "id": "oyE6YLi8_Awm",
        "colab": {
          "base_uri": "https://localhost:8080/"
        },
        "outputId": "cb988e31-06b6-408b-bc90-02e0e6a52bf8"
      },
      "execution_count": null,
      "outputs": [
        {
          "output_type": "execute_result",
          "data": {
            "text/plain": [
              "0.0"
            ]
          },
          "metadata": {},
          "execution_count": 10
        }
      ]
    },
    {
      "cell_type": "code",
      "source": [
        "calcula_percentual_indefinido(df, \"grau_malignidade\")"
      ],
      "metadata": {
        "id": "PHunT-np_Asd",
        "colab": {
          "base_uri": "https://localhost:8080/"
        },
        "outputId": "fd7b9ab7-2918-4d7f-e425-161bb84999ae"
      },
      "execution_count": null,
      "outputs": [
        {
          "output_type": "execute_result",
          "data": {
            "text/plain": [
              "0.0"
            ]
          },
          "metadata": {},
          "execution_count": 11
        }
      ]
    },
    {
      "cell_type": "code",
      "source": [
        "calcula_percentual_indefinido(df, \"radioterapia\")"
      ],
      "metadata": {
        "id": "OMiXHwJC_Al8",
        "colab": {
          "base_uri": "https://localhost:8080/"
        },
        "outputId": "6c109505-6a23-4325-dda4-a7cdc301496d"
      },
      "execution_count": null,
      "outputs": [
        {
          "output_type": "execute_result",
          "data": {
            "text/plain": [
              "0.0"
            ]
          },
          "metadata": {},
          "execution_count": 12
        }
      ]
    },
    {
      "cell_type": "code",
      "source": [
        "calcula_percentual_indefinido(df, \"quadrante_afetado\")"
      ],
      "metadata": {
        "id": "bz7HzMNo_AhV",
        "colab": {
          "base_uri": "https://localhost:8080/"
        },
        "outputId": "c945bd3d-bceb-4fc8-8659-30373bf784a0"
      },
      "execution_count": null,
      "outputs": [
        {
          "output_type": "execute_result",
          "data": {
            "text/plain": [
              "0.0"
            ]
          },
          "metadata": {},
          "execution_count": 13
        }
      ]
    },
    {
      "cell_type": "code",
      "source": [
        "calcula_percentual_indefinido(df, \"radioterapia\")"
      ],
      "metadata": {
        "id": "j_LiTCgT_Abx",
        "colab": {
          "base_uri": "https://localhost:8080/"
        },
        "outputId": "84f826a8-9f4a-487e-d2fc-d0d0c25d401c"
      },
      "execution_count": null,
      "outputs": [
        {
          "output_type": "execute_result",
          "data": {
            "text/plain": [
              "0.0"
            ]
          },
          "metadata": {},
          "execution_count": 14
        }
      ]
    },
    {
      "cell_type": "markdown",
      "source": [
        "### Tirar '?' que achamos no meio das colunas"
      ],
      "metadata": {
        "id": "uZDWmCiUF5Em"
      }
    },
    {
      "cell_type": "code",
      "source": [
        "interrogacao = []\n",
        "for coluna in df:\n",
        "  quantidade_interrog = len(df.loc[df[coluna]=='?'])\n",
        "  interrogacao.append(quantidade_interrog)\n"
      ],
      "metadata": {
        "id": "gOmnA5tzBVrq"
      },
      "execution_count": null,
      "outputs": []
    },
    {
      "cell_type": "code",
      "source": [
        "df.loc[df['pen_linfonodos']=='?', 'pen_linfonodos'] = np.nan\n",
        "df.loc[df['quadrante_afetado']=='?', 'quadrante_afetado'] = np.nan"
      ],
      "metadata": {
        "id": "XL6hEnLABpDZ"
      },
      "execution_count": null,
      "outputs": []
    },
    {
      "cell_type": "code",
      "source": [
        "df = df[~pd.isna(df.quadrante_afetado)].reset_index()\n",
        "df = df.drop(columns='index')"
      ],
      "metadata": {
        "id": "znnxNO9YCQSS"
      },
      "execution_count": null,
      "outputs": []
    },
    {
      "cell_type": "markdown",
      "source": [
        "### Verificar se os valores são categóricos"
      ],
      "metadata": {
        "id": "zK2if-EUGUq5"
      }
    },
    {
      "cell_type": "code",
      "source": [
        "df['idade'].unique()"
      ],
      "metadata": {
        "id": "fBKGjrnpChED",
        "colab": {
          "base_uri": "https://localhost:8080/"
        },
        "outputId": "6ecbf31c-89ef-48ae-bad2-784ed6e3d076"
      },
      "execution_count": null,
      "outputs": [
        {
          "output_type": "execute_result",
          "data": {
            "text/plain": [
              "array(['50-59', '30-39', '40-49', '60-69', '70-79', '20-29'], dtype=object)"
            ]
          },
          "metadata": {},
          "execution_count": 18
        }
      ]
    },
    {
      "cell_type": "code",
      "source": [
        "df['menopausa'].unique()"
      ],
      "metadata": {
        "id": "AtfKbc0tCqP-",
        "colab": {
          "base_uri": "https://localhost:8080/"
        },
        "outputId": "a1731c9d-df5c-4515-b573-858eb0129229"
      },
      "execution_count": null,
      "outputs": [
        {
          "output_type": "execute_result",
          "data": {
            "text/plain": [
              "array(['ge40', 'premeno', 'lt40'], dtype=object)"
            ]
          },
          "metadata": {},
          "execution_count": 19
        }
      ]
    },
    {
      "cell_type": "code",
      "source": [
        "df['tamanho_tumor'].unique()"
      ],
      "metadata": {
        "id": "iX7QzJHJCqKi",
        "colab": {
          "base_uri": "https://localhost:8080/"
        },
        "outputId": "6a27b87a-f704-4f19-ee5e-2b51645b9aa7"
      },
      "execution_count": null,
      "outputs": [
        {
          "output_type": "execute_result",
          "data": {
            "text/plain": [
              "array(['30-34', '25-29', '20-24', '40-44', '45-49', '50-54', '15-19',\n",
              "       '35-39', '0-4', '10-14', '5-9'], dtype=object)"
            ]
          },
          "metadata": {},
          "execution_count": 20
        }
      ]
    },
    {
      "cell_type": "code",
      "source": [
        "df['numero_linfonodos'].unique()"
      ],
      "metadata": {
        "id": "AzBW3iMkCqFQ",
        "colab": {
          "base_uri": "https://localhost:8080/"
        },
        "outputId": "da4ef991-37db-4f31-df9c-e0fc2fe0eaba"
      },
      "execution_count": null,
      "outputs": [
        {
          "output_type": "execute_result",
          "data": {
            "text/plain": [
              "array(['3-5', '15-17', '0-2', '9-11', '6-8', '12-14', '24-26'],\n",
              "      dtype=object)"
            ]
          },
          "metadata": {},
          "execution_count": 21
        }
      ]
    },
    {
      "cell_type": "code",
      "source": [
        "df['pen_linfonodos'].unique()"
      ],
      "metadata": {
        "id": "7Ev1vZCHCqBN",
        "colab": {
          "base_uri": "https://localhost:8080/"
        },
        "outputId": "fde034a9-3797-4cfe-84ae-b4af0cfb5811"
      },
      "execution_count": null,
      "outputs": [
        {
          "output_type": "execute_result",
          "data": {
            "text/plain": [
              "array(['no', 'yes', nan], dtype=object)"
            ]
          },
          "metadata": {},
          "execution_count": 22
        }
      ]
    },
    {
      "cell_type": "code",
      "source": [
        "df['grau_malignidade'].unique()"
      ],
      "metadata": {
        "id": "jpMrKhstCp9W",
        "colab": {
          "base_uri": "https://localhost:8080/"
        },
        "outputId": "b767d52a-7342-40d3-fc29-e41955d8f3be"
      },
      "execution_count": null,
      "outputs": [
        {
          "output_type": "execute_result",
          "data": {
            "text/plain": [
              "array([3, 1, 2])"
            ]
          },
          "metadata": {},
          "execution_count": 23
        }
      ]
    },
    {
      "cell_type": "code",
      "source": [
        "df['quadrante_afetado'].unique()"
      ],
      "metadata": {
        "id": "5YUppVuNCp5c",
        "colab": {
          "base_uri": "https://localhost:8080/"
        },
        "outputId": "52c71c5e-e2a7-4067-972e-bdb19d84f7c2"
      },
      "execution_count": null,
      "outputs": [
        {
          "output_type": "execute_result",
          "data": {
            "text/plain": [
              "array(['left_low', 'left_up', 'right_up', 'right_low', 'central'],\n",
              "      dtype=object)"
            ]
          },
          "metadata": {},
          "execution_count": 24
        }
      ]
    },
    {
      "cell_type": "code",
      "source": [
        "df['radioterapia'].unique()"
      ],
      "metadata": {
        "id": "N50SDAcRCp1-",
        "colab": {
          "base_uri": "https://localhost:8080/"
        },
        "outputId": "78b52a0d-c075-40c6-f92d-977822ed3169"
      },
      "execution_count": null,
      "outputs": [
        {
          "output_type": "execute_result",
          "data": {
            "text/plain": [
              "array(['no', 'yes'], dtype=object)"
            ]
          },
          "metadata": {},
          "execution_count": 25
        }
      ]
    },
    {
      "cell_type": "markdown",
      "source": [
        "Transformando os valores das colunas em vetores exemplo = [0,1],[1,0] etc"
      ],
      "metadata": {
        "id": "n2aeaaGnG4pr"
      }
    },
    {
      "cell_type": "code",
      "source": [
        "def one_hot(categorias, valor):\n",
        "  categorias = list(set(categorias))\n",
        "  indice = categorias.index(valor)\n",
        "  vetor = np.zeros(len(categorias))\n",
        "  vetor[indice] = 1\n",
        "  return vetor"
      ],
      "metadata": {
        "id": "fCCtVZYAC8yV"
      },
      "execution_count": null,
      "outputs": []
    },
    {
      "cell_type": "code",
      "source": [
        "df.head(10)"
      ],
      "metadata": {
        "id": "eCuHrjXIDNt-"
      },
      "execution_count": null,
      "outputs": []
    },
    {
      "cell_type": "code",
      "source": [
        "df.eventos_recorrentes = [one_hot(df.eventos_recorrentes, _) for _ in df.eventos_recorrentes]\n",
        "df.idade = [one_hot(df.idade, _) for _ in df.idade]\n",
        "df.menopausa = [one_hot(df.menopausa, _) for _ in df.menopausa]\n",
        "df.tamanho_tumor = [one_hot(df.tamanho_tumor, _) for _ in df.tamanho_tumor]\n",
        "df.numero_linfonodos = [one_hot(df.numero_linfonodos, _) for _ in df.numero_linfonodos]\n",
        "df.pen_linfonodos = [one_hot(df.pen_linfonodos, _) for _ in df.pen_linfonodos]\n",
        "df.grau_malignidade = [one_hot(df.grau_malignidade, _) for _ in df.grau_malignidade]\n",
        "df.quadrante_afetado = [one_hot(df.quadrante_afetado, _) for _ in df.quadrante_afetado]\n",
        "df.radioterapia = [one_hot(df.radioterapia, _) for _ in df.radioterapia]"
      ],
      "metadata": {
        "id": "NckjB3w0DJZt"
      },
      "execution_count": null,
      "outputs": []
    },
    {
      "cell_type": "code",
      "source": [
        "df"
      ],
      "metadata": {
        "id": "U3YdfOWACDOc"
      },
      "execution_count": null,
      "outputs": []
    },
    {
      "cell_type": "code",
      "source": [
        "labels = df.eventos_recorrentes\n",
        "df = df.drop(columns = 'eventos_recorrentes')\n"
      ],
      "metadata": {
        "id": "4D1GmYCcDtmu"
      },
      "execution_count": null,
      "outputs": []
    },
    {
      "cell_type": "code",
      "source": [
        "def vetorizar(idade, menopausa, tamanho_tumor, numero_linfonodos, pen_linfonodos, grau_malignidade, quadrante_afetado, radioterapia):\n",
        "    return idade.tolist() + menopausa.tolist() + tamanho_tumor.tolist() + numero_linfonodos.tolist() \\\n",
        "    + pen_linfonodos.tolist() + grau_malignidade.tolist() + quadrante_afetado.tolist() + radioterapia.tolist()"
      ],
      "metadata": {
        "id": "Qr8GosAbEDhk"
      },
      "execution_count": null,
      "outputs": []
    },
    {
      "cell_type": "code",
      "source": [
        "df"
      ],
      "metadata": {
        "id": "RQzC6H4OCK6E"
      },
      "execution_count": null,
      "outputs": []
    },
    {
      "cell_type": "code",
      "source": [
        "entrada = [vetorizar(*_) for _ in df.values]"
      ],
      "metadata": {
        "id": "Lxo_Q694Ea7R"
      },
      "execution_count": null,
      "outputs": []
    },
    {
      "cell_type": "code",
      "source": [
        "entrada"
      ],
      "metadata": {
        "id": "hH-7LyekCN4L"
      },
      "execution_count": null,
      "outputs": []
    },
    {
      "cell_type": "code",
      "source": [
        "np.savetxt(\"entrada_treino.csv\", entrada, delimiter=',')"
      ],
      "metadata": {
        "id": "OhPwGwEuE-8Q"
      },
      "execution_count": null,
      "outputs": []
    },
    {
      "cell_type": "code",
      "source": [
        "np.savetxt(\"labels.csv\", labels.tolist(), delimiter=',')"
      ],
      "metadata": {
        "id": "w0oOigj8FHgG"
      },
      "execution_count": null,
      "outputs": []
    },
    {
      "cell_type": "code",
      "source": [
        "np.savetxt(\"datasetAtualzizado.csv\", df, delimiter = ',')"
      ],
      "metadata": {
        "id": "eVKMnIJz24z0"
      },
      "execution_count": null,
      "outputs": []
    },
    {
      "cell_type": "code",
      "source": [
        "x = np.loadtxt(\"entrada_treino.csv\", delimiter=',')\n",
        "y = np.loadtxt(\"labels.csv\", delimiter=',')"
      ],
      "metadata": {
        "id": "DlXMCT_xFIlE"
      },
      "execution_count": null,
      "outputs": []
    },
    {
      "cell_type": "code",
      "source": [
        "tamanho_treino = int(x.shape[0]*0.75)"
      ],
      "metadata": {
        "id": "CPBJnTSuFRTj"
      },
      "execution_count": null,
      "outputs": []
    },
    {
      "cell_type": "markdown",
      "source": [
        "### T = treino\n",
        "### S = teste"
      ],
      "metadata": {
        "id": "NzOckquvFTeD"
      }
    },
    {
      "cell_type": "code",
      "source": [
        "x_t = x[ :tamanho_treino]\n",
        "y_t = y[ :tamanho_treino]\n",
        "\n",
        "x_s = x[tamanho_treino: ]\n",
        "y_s = y[tamanho_treino: ]"
      ],
      "metadata": {
        "id": "4b7ymfd-FVzA"
      },
      "execution_count": null,
      "outputs": []
    },
    {
      "cell_type": "code",
      "source": [
        "redeneural = MLPClassifier(\n",
        "    verbose = True,\n",
        "    max_iter = 1000,\n",
        "    tol=0.000001,\n",
        "    activation='relu',\n",
        "    learning_rate_init=0.0001\n",
        ")"
      ],
      "metadata": {
        "id": "3Llq9e0BxxOz"
      },
      "execution_count": null,
      "outputs": []
    },
    {
      "cell_type": "code",
      "source": [
        "redeneural.fit(x,y)"
      ],
      "metadata": {
        "id": "w9FvlCBYyRtg",
        "colab": {
          "base_uri": "https://localhost:8080/",
          "height": 1000
        },
        "outputId": "1b698139-24d9-4e14-dcd9-818a080f3afc"
      },
      "execution_count": null,
      "outputs": [
        {
          "output_type": "stream",
          "name": "stdout",
          "text": [
            "Iteration 1, loss = 1.62182754\n",
            "Iteration 2, loss = 1.61586470\n",
            "Iteration 3, loss = 1.60974256\n",
            "Iteration 4, loss = 1.60382360\n",
            "Iteration 5, loss = 1.59797166\n",
            "Iteration 6, loss = 1.59202737\n",
            "Iteration 7, loss = 1.58642061\n",
            "Iteration 8, loss = 1.58075547\n",
            "Iteration 9, loss = 1.57493676\n",
            "Iteration 10, loss = 1.56966596\n",
            "Iteration 11, loss = 1.56395304\n",
            "Iteration 12, loss = 1.55832836\n",
            "Iteration 13, loss = 1.55315469\n",
            "Iteration 14, loss = 1.54781055\n",
            "Iteration 15, loss = 1.54238151\n",
            "Iteration 16, loss = 1.53721166\n",
            "Iteration 17, loss = 1.53191345\n",
            "Iteration 18, loss = 1.52671082\n",
            "Iteration 19, loss = 1.52175680\n",
            "Iteration 20, loss = 1.51667284\n",
            "Iteration 21, loss = 1.51160095\n",
            "Iteration 22, loss = 1.50688839\n",
            "Iteration 23, loss = 1.50176545\n",
            "Iteration 24, loss = 1.49718394\n",
            "Iteration 25, loss = 1.49246853\n",
            "Iteration 26, loss = 1.48779700\n",
            "Iteration 27, loss = 1.48303295\n",
            "Iteration 28, loss = 1.47863681\n",
            "Iteration 29, loss = 1.47401398\n",
            "Iteration 30, loss = 1.46957853\n",
            "Iteration 31, loss = 1.46519240\n",
            "Iteration 32, loss = 1.46069233\n",
            "Iteration 33, loss = 1.45620847\n",
            "Iteration 34, loss = 1.45202363\n",
            "Iteration 35, loss = 1.44773114\n",
            "Iteration 36, loss = 1.44332145\n",
            "Iteration 37, loss = 1.43904536\n",
            "Iteration 38, loss = 1.43505265\n",
            "Iteration 39, loss = 1.43076770\n",
            "Iteration 40, loss = 1.42650320\n",
            "Iteration 41, loss = 1.42235152\n",
            "Iteration 42, loss = 1.41846027\n",
            "Iteration 43, loss = 1.41472412\n",
            "Iteration 44, loss = 1.41053895\n",
            "Iteration 45, loss = 1.40670360\n",
            "Iteration 46, loss = 1.40272109\n",
            "Iteration 47, loss = 1.39902066\n",
            "Iteration 48, loss = 1.39517901\n",
            "Iteration 49, loss = 1.39160354\n",
            "Iteration 50, loss = 1.38789625\n",
            "Iteration 51, loss = 1.38425827\n",
            "Iteration 52, loss = 1.38058635\n",
            "Iteration 53, loss = 1.37698352\n",
            "Iteration 54, loss = 1.37368628\n",
            "Iteration 55, loss = 1.36995933\n",
            "Iteration 56, loss = 1.36670155\n",
            "Iteration 57, loss = 1.36326702\n",
            "Iteration 58, loss = 1.35967130\n",
            "Iteration 59, loss = 1.35646288\n",
            "Iteration 60, loss = 1.35315389\n",
            "Iteration 61, loss = 1.34983027\n",
            "Iteration 62, loss = 1.34642772\n",
            "Iteration 63, loss = 1.34309993\n",
            "Iteration 64, loss = 1.33995732\n",
            "Iteration 65, loss = 1.33670943\n",
            "Iteration 66, loss = 1.33358858\n",
            "Iteration 67, loss = 1.33036415\n",
            "Iteration 68, loss = 1.32730002\n",
            "Iteration 69, loss = 1.32425423\n",
            "Iteration 70, loss = 1.32124792\n",
            "Iteration 71, loss = 1.31817318\n",
            "Iteration 72, loss = 1.31537490\n",
            "Iteration 73, loss = 1.31244006\n",
            "Iteration 74, loss = 1.30958594\n",
            "Iteration 75, loss = 1.30681534\n",
            "Iteration 76, loss = 1.30387478\n",
            "Iteration 77, loss = 1.30118153\n",
            "Iteration 78, loss = 1.29843870\n",
            "Iteration 79, loss = 1.29567287\n",
            "Iteration 80, loss = 1.29292780\n",
            "Iteration 81, loss = 1.29041660\n",
            "Iteration 82, loss = 1.28770880\n",
            "Iteration 83, loss = 1.28498046\n",
            "Iteration 84, loss = 1.28242762\n",
            "Iteration 85, loss = 1.27985947\n",
            "Iteration 86, loss = 1.27720835\n",
            "Iteration 87, loss = 1.27473155\n",
            "Iteration 88, loss = 1.27214778\n",
            "Iteration 89, loss = 1.26957778\n",
            "Iteration 90, loss = 1.26707775\n",
            "Iteration 91, loss = 1.26452869\n",
            "Iteration 92, loss = 1.26210281\n",
            "Iteration 93, loss = 1.25949818\n",
            "Iteration 94, loss = 1.25714814\n",
            "Iteration 95, loss = 1.25475052\n",
            "Iteration 96, loss = 1.25223899\n",
            "Iteration 97, loss = 1.25000159\n",
            "Iteration 98, loss = 1.24753299\n",
            "Iteration 99, loss = 1.24534806\n",
            "Iteration 100, loss = 1.24291392\n",
            "Iteration 101, loss = 1.24067257\n",
            "Iteration 102, loss = 1.23847999\n",
            "Iteration 103, loss = 1.23621454\n",
            "Iteration 104, loss = 1.23396118\n",
            "Iteration 105, loss = 1.23183943\n",
            "Iteration 106, loss = 1.22969894\n",
            "Iteration 107, loss = 1.22744069\n",
            "Iteration 108, loss = 1.22540801\n",
            "Iteration 109, loss = 1.22321225\n",
            "Iteration 110, loss = 1.22113400\n",
            "Iteration 111, loss = 1.21896536\n",
            "Iteration 112, loss = 1.21702782\n",
            "Iteration 113, loss = 1.21497500\n",
            "Iteration 114, loss = 1.21305664\n",
            "Iteration 115, loss = 1.21087836\n",
            "Iteration 116, loss = 1.20898638\n",
            "Iteration 117, loss = 1.20697463\n",
            "Iteration 118, loss = 1.20515490\n",
            "Iteration 119, loss = 1.20313937\n",
            "Iteration 120, loss = 1.20129159\n",
            "Iteration 121, loss = 1.19940250\n",
            "Iteration 122, loss = 1.19755657\n",
            "Iteration 123, loss = 1.19560499\n",
            "Iteration 124, loss = 1.19384771\n",
            "Iteration 125, loss = 1.19195171\n",
            "Iteration 126, loss = 1.19016245\n",
            "Iteration 127, loss = 1.18834174\n",
            "Iteration 128, loss = 1.18664102\n",
            "Iteration 129, loss = 1.18478900\n",
            "Iteration 130, loss = 1.18310141\n",
            "Iteration 131, loss = 1.18128542\n",
            "Iteration 132, loss = 1.17961094\n",
            "Iteration 133, loss = 1.17792424\n",
            "Iteration 134, loss = 1.17630215\n",
            "Iteration 135, loss = 1.17453648\n",
            "Iteration 136, loss = 1.17292025\n",
            "Iteration 137, loss = 1.17122196\n",
            "Iteration 138, loss = 1.16961817\n",
            "Iteration 139, loss = 1.16793386\n",
            "Iteration 140, loss = 1.16634181\n",
            "Iteration 141, loss = 1.16482946\n",
            "Iteration 142, loss = 1.16323252\n",
            "Iteration 143, loss = 1.16162305\n",
            "Iteration 144, loss = 1.16011342\n",
            "Iteration 145, loss = 1.15863473\n",
            "Iteration 146, loss = 1.15715664\n",
            "Iteration 147, loss = 1.15577930\n",
            "Iteration 148, loss = 1.15424075\n",
            "Iteration 149, loss = 1.15279483\n",
            "Iteration 150, loss = 1.15146335\n",
            "Iteration 151, loss = 1.15000069\n",
            "Iteration 152, loss = 1.14857941\n",
            "Iteration 153, loss = 1.14715882\n",
            "Iteration 154, loss = 1.14580368\n",
            "Iteration 155, loss = 1.14432002\n",
            "Iteration 156, loss = 1.14302425\n",
            "Iteration 157, loss = 1.14165675\n",
            "Iteration 158, loss = 1.14031411\n",
            "Iteration 159, loss = 1.13885389\n",
            "Iteration 160, loss = 1.13764901\n",
            "Iteration 161, loss = 1.13625572\n",
            "Iteration 162, loss = 1.13496995\n",
            "Iteration 163, loss = 1.13374588\n",
            "Iteration 164, loss = 1.13243063\n",
            "Iteration 165, loss = 1.13115143\n",
            "Iteration 166, loss = 1.12988501\n",
            "Iteration 167, loss = 1.12870746\n",
            "Iteration 168, loss = 1.12749838\n",
            "Iteration 169, loss = 1.12622613\n",
            "Iteration 170, loss = 1.12509619\n",
            "Iteration 171, loss = 1.12391802\n",
            "Iteration 172, loss = 1.12270738\n",
            "Iteration 173, loss = 1.12152180\n",
            "Iteration 174, loss = 1.12035022\n",
            "Iteration 175, loss = 1.11919453\n",
            "Iteration 176, loss = 1.11811146\n",
            "Iteration 177, loss = 1.11690040\n",
            "Iteration 178, loss = 1.11574822\n",
            "Iteration 179, loss = 1.11461835\n",
            "Iteration 180, loss = 1.11351045\n",
            "Iteration 181, loss = 1.11240002\n",
            "Iteration 182, loss = 1.11126006\n",
            "Iteration 183, loss = 1.11021798\n",
            "Iteration 184, loss = 1.10912363\n",
            "Iteration 185, loss = 1.10801354\n",
            "Iteration 186, loss = 1.10707092\n",
            "Iteration 187, loss = 1.10596678\n",
            "Iteration 188, loss = 1.10493000\n",
            "Iteration 189, loss = 1.10399024\n",
            "Iteration 190, loss = 1.10299174\n",
            "Iteration 191, loss = 1.10195847\n",
            "Iteration 192, loss = 1.10104343\n",
            "Iteration 193, loss = 1.10005699\n",
            "Iteration 194, loss = 1.09906884\n",
            "Iteration 195, loss = 1.09817331\n",
            "Iteration 196, loss = 1.09711123\n",
            "Iteration 197, loss = 1.09627001\n",
            "Iteration 198, loss = 1.09525345\n",
            "Iteration 199, loss = 1.09434271\n",
            "Iteration 200, loss = 1.09332522\n",
            "Iteration 201, loss = 1.09236968\n",
            "Iteration 202, loss = 1.09143540\n",
            "Iteration 203, loss = 1.09044219\n",
            "Iteration 204, loss = 1.08952313\n",
            "Iteration 205, loss = 1.08858474\n",
            "Iteration 206, loss = 1.08766458\n",
            "Iteration 207, loss = 1.08670419\n",
            "Iteration 208, loss = 1.08584651\n",
            "Iteration 209, loss = 1.08488814\n",
            "Iteration 210, loss = 1.08403057\n",
            "Iteration 211, loss = 1.08312725\n",
            "Iteration 212, loss = 1.08224429\n",
            "Iteration 213, loss = 1.08134808\n",
            "Iteration 214, loss = 1.08047820\n",
            "Iteration 215, loss = 1.07967470\n",
            "Iteration 216, loss = 1.07877626\n",
            "Iteration 217, loss = 1.07785480\n",
            "Iteration 218, loss = 1.07706704\n",
            "Iteration 219, loss = 1.07619794\n",
            "Iteration 220, loss = 1.07535384\n",
            "Iteration 221, loss = 1.07452111\n",
            "Iteration 222, loss = 1.07368415\n",
            "Iteration 223, loss = 1.07286112\n",
            "Iteration 224, loss = 1.07202033\n",
            "Iteration 225, loss = 1.07116939\n",
            "Iteration 226, loss = 1.07037958\n",
            "Iteration 227, loss = 1.06951081\n",
            "Iteration 228, loss = 1.06873756\n",
            "Iteration 229, loss = 1.06794109\n",
            "Iteration 230, loss = 1.06707199\n",
            "Iteration 231, loss = 1.06628228\n",
            "Iteration 232, loss = 1.06545508\n",
            "Iteration 233, loss = 1.06474717\n",
            "Iteration 234, loss = 1.06389359\n",
            "Iteration 235, loss = 1.06315185\n",
            "Iteration 236, loss = 1.06235121\n",
            "Iteration 237, loss = 1.06164057\n",
            "Iteration 238, loss = 1.06081355\n",
            "Iteration 239, loss = 1.06011551\n",
            "Iteration 240, loss = 1.05932357\n",
            "Iteration 241, loss = 1.05857469\n",
            "Iteration 242, loss = 1.05788773\n",
            "Iteration 243, loss = 1.05714501\n",
            "Iteration 244, loss = 1.05640794\n",
            "Iteration 245, loss = 1.05568504\n",
            "Iteration 246, loss = 1.05493425\n",
            "Iteration 247, loss = 1.05428133\n",
            "Iteration 248, loss = 1.05359204\n",
            "Iteration 249, loss = 1.05289187\n",
            "Iteration 250, loss = 1.05218003\n",
            "Iteration 251, loss = 1.05148438\n",
            "Iteration 252, loss = 1.05074208\n",
            "Iteration 253, loss = 1.05008971\n",
            "Iteration 254, loss = 1.04940054\n",
            "Iteration 255, loss = 1.04870026\n",
            "Iteration 256, loss = 1.04801379\n",
            "Iteration 257, loss = 1.04734641\n",
            "Iteration 258, loss = 1.04667151\n",
            "Iteration 259, loss = 1.04594403\n",
            "Iteration 260, loss = 1.04527454\n",
            "Iteration 261, loss = 1.04462924\n",
            "Iteration 262, loss = 1.04399095\n",
            "Iteration 263, loss = 1.04326581\n",
            "Iteration 264, loss = 1.04263475\n",
            "Iteration 265, loss = 1.04197896\n",
            "Iteration 266, loss = 1.04132234\n",
            "Iteration 267, loss = 1.04071353\n",
            "Iteration 268, loss = 1.03998604\n",
            "Iteration 269, loss = 1.03938508\n",
            "Iteration 270, loss = 1.03874039\n",
            "Iteration 271, loss = 1.03810165\n",
            "Iteration 272, loss = 1.03748818\n",
            "Iteration 273, loss = 1.03684994\n",
            "Iteration 274, loss = 1.03621109\n",
            "Iteration 275, loss = 1.03559053\n",
            "Iteration 276, loss = 1.03494071\n",
            "Iteration 277, loss = 1.03432348\n",
            "Iteration 278, loss = 1.03375502\n",
            "Iteration 279, loss = 1.03307883\n",
            "Iteration 280, loss = 1.03246786\n",
            "Iteration 281, loss = 1.03185773\n",
            "Iteration 282, loss = 1.03122379\n",
            "Iteration 283, loss = 1.03062473\n",
            "Iteration 284, loss = 1.03004709\n",
            "Iteration 285, loss = 1.02945942\n",
            "Iteration 286, loss = 1.02883731\n",
            "Iteration 287, loss = 1.02820446\n",
            "Iteration 288, loss = 1.02766108\n",
            "Iteration 289, loss = 1.02703802\n",
            "Iteration 290, loss = 1.02650428\n",
            "Iteration 291, loss = 1.02588865\n",
            "Iteration 292, loss = 1.02529145\n",
            "Iteration 293, loss = 1.02470129\n",
            "Iteration 294, loss = 1.02414748\n",
            "Iteration 295, loss = 1.02354797\n",
            "Iteration 296, loss = 1.02300579\n",
            "Iteration 297, loss = 1.02241864\n",
            "Iteration 298, loss = 1.02182924\n",
            "Iteration 299, loss = 1.02127964\n",
            "Iteration 300, loss = 1.02068072\n",
            "Iteration 301, loss = 1.02013505\n",
            "Iteration 302, loss = 1.01955119\n",
            "Iteration 303, loss = 1.01899482\n",
            "Iteration 304, loss = 1.01844216\n",
            "Iteration 305, loss = 1.01786452\n",
            "Iteration 306, loss = 1.01734398\n",
            "Iteration 307, loss = 1.01673899\n",
            "Iteration 308, loss = 1.01624648\n",
            "Iteration 309, loss = 1.01571197\n",
            "Iteration 310, loss = 1.01518563\n",
            "Iteration 311, loss = 1.01461126\n",
            "Iteration 312, loss = 1.01413305\n",
            "Iteration 313, loss = 1.01355858\n",
            "Iteration 314, loss = 1.01306384\n",
            "Iteration 315, loss = 1.01249156\n",
            "Iteration 316, loss = 1.01199085\n",
            "Iteration 317, loss = 1.01147651\n",
            "Iteration 318, loss = 1.01095087\n",
            "Iteration 319, loss = 1.01037821\n",
            "Iteration 320, loss = 1.00987208\n",
            "Iteration 321, loss = 1.00935709\n",
            "Iteration 322, loss = 1.00880697\n",
            "Iteration 323, loss = 1.00829127\n",
            "Iteration 324, loss = 1.00778566\n",
            "Iteration 325, loss = 1.00725910\n",
            "Iteration 326, loss = 1.00672360\n",
            "Iteration 327, loss = 1.00620555\n",
            "Iteration 328, loss = 1.00569821\n",
            "Iteration 329, loss = 1.00520027\n",
            "Iteration 330, loss = 1.00464887\n",
            "Iteration 331, loss = 1.00419249\n",
            "Iteration 332, loss = 1.00362443\n",
            "Iteration 333, loss = 1.00310718\n",
            "Iteration 334, loss = 1.00264277\n",
            "Iteration 335, loss = 1.00210374\n",
            "Iteration 336, loss = 1.00161021\n",
            "Iteration 337, loss = 1.00109345\n",
            "Iteration 338, loss = 1.00057825\n",
            "Iteration 339, loss = 1.00010668\n",
            "Iteration 340, loss = 0.99959240\n",
            "Iteration 341, loss = 0.99906473\n",
            "Iteration 342, loss = 0.99857299\n",
            "Iteration 343, loss = 0.99808061\n",
            "Iteration 344, loss = 0.99755786\n",
            "Iteration 345, loss = 0.99706164\n",
            "Iteration 346, loss = 0.99654922\n",
            "Iteration 347, loss = 0.99605705\n",
            "Iteration 348, loss = 0.99557319\n",
            "Iteration 349, loss = 0.99502976\n",
            "Iteration 350, loss = 0.99456679\n",
            "Iteration 351, loss = 0.99405362\n",
            "Iteration 352, loss = 0.99357017\n",
            "Iteration 353, loss = 0.99311373\n",
            "Iteration 354, loss = 0.99260266\n",
            "Iteration 355, loss = 0.99211548\n",
            "Iteration 356, loss = 0.99165271\n",
            "Iteration 357, loss = 0.99116727\n",
            "Iteration 358, loss = 0.99070167\n",
            "Iteration 359, loss = 0.99023540\n",
            "Iteration 360, loss = 0.98979830\n",
            "Iteration 361, loss = 0.98931202\n",
            "Iteration 362, loss = 0.98883938\n",
            "Iteration 363, loss = 0.98837385\n",
            "Iteration 364, loss = 0.98793457\n",
            "Iteration 365, loss = 0.98753071\n",
            "Iteration 366, loss = 0.98702794\n",
            "Iteration 367, loss = 0.98658726\n",
            "Iteration 368, loss = 0.98612495\n",
            "Iteration 369, loss = 0.98570674\n",
            "Iteration 370, loss = 0.98528186\n",
            "Iteration 371, loss = 0.98481414\n",
            "Iteration 372, loss = 0.98436504\n",
            "Iteration 373, loss = 0.98392750\n",
            "Iteration 374, loss = 0.98351765\n",
            "Iteration 375, loss = 0.98305287\n",
            "Iteration 376, loss = 0.98262244\n",
            "Iteration 377, loss = 0.98220559\n",
            "Iteration 378, loss = 0.98173872\n",
            "Iteration 379, loss = 0.98130101\n",
            "Iteration 380, loss = 0.98090243\n",
            "Iteration 381, loss = 0.98042629\n",
            "Iteration 382, loss = 0.97998374\n",
            "Iteration 383, loss = 0.97957298\n",
            "Iteration 384, loss = 0.97915421\n",
            "Iteration 385, loss = 0.97870068\n",
            "Iteration 386, loss = 0.97829477\n",
            "Iteration 387, loss = 0.97787097\n",
            "Iteration 388, loss = 0.97742121\n",
            "Iteration 389, loss = 0.97699440\n",
            "Iteration 390, loss = 0.97657327\n",
            "Iteration 391, loss = 0.97614086\n",
            "Iteration 392, loss = 0.97574512\n",
            "Iteration 393, loss = 0.97531097\n",
            "Iteration 394, loss = 0.97485108\n",
            "Iteration 395, loss = 0.97446317\n",
            "Iteration 396, loss = 0.97402402\n",
            "Iteration 397, loss = 0.97361362\n",
            "Iteration 398, loss = 0.97318438\n",
            "Iteration 399, loss = 0.97280020\n",
            "Iteration 400, loss = 0.97232868\n",
            "Iteration 401, loss = 0.97195155\n",
            "Iteration 402, loss = 0.97152330\n",
            "Iteration 403, loss = 0.97111076\n",
            "Iteration 404, loss = 0.97071073\n",
            "Iteration 405, loss = 0.97028279\n",
            "Iteration 406, loss = 0.96988029\n",
            "Iteration 407, loss = 0.96947098\n",
            "Iteration 408, loss = 0.96907898\n",
            "Iteration 409, loss = 0.96866579\n",
            "Iteration 410, loss = 0.96823665\n",
            "Iteration 411, loss = 0.96784765\n",
            "Iteration 412, loss = 0.96746088\n",
            "Iteration 413, loss = 0.96707448\n",
            "Iteration 414, loss = 0.96664764\n",
            "Iteration 415, loss = 0.96627142\n",
            "Iteration 416, loss = 0.96587903\n",
            "Iteration 417, loss = 0.96551314\n",
            "Iteration 418, loss = 0.96507429\n",
            "Iteration 419, loss = 0.96470338\n",
            "Iteration 420, loss = 0.96427903\n",
            "Iteration 421, loss = 0.96390729\n",
            "Iteration 422, loss = 0.96355386\n",
            "Iteration 423, loss = 0.96312127\n",
            "Iteration 424, loss = 0.96274250\n",
            "Iteration 425, loss = 0.96235854\n",
            "Iteration 426, loss = 0.96198805\n",
            "Iteration 427, loss = 0.96159747\n",
            "Iteration 428, loss = 0.96123156\n",
            "Iteration 429, loss = 0.96086897\n",
            "Iteration 430, loss = 0.96046461\n",
            "Iteration 431, loss = 0.96009290\n",
            "Iteration 432, loss = 0.95973730\n",
            "Iteration 433, loss = 0.95934905\n",
            "Iteration 434, loss = 0.95900246\n",
            "Iteration 435, loss = 0.95860509\n",
            "Iteration 436, loss = 0.95826214\n",
            "Iteration 437, loss = 0.95788408\n",
            "Iteration 438, loss = 0.95749612\n",
            "Iteration 439, loss = 0.95715175\n",
            "Iteration 440, loss = 0.95677201\n",
            "Iteration 441, loss = 0.95641803\n",
            "Iteration 442, loss = 0.95604383\n",
            "Iteration 443, loss = 0.95566872\n",
            "Iteration 444, loss = 0.95530520\n",
            "Iteration 445, loss = 0.95492715\n",
            "Iteration 446, loss = 0.95456598\n",
            "Iteration 447, loss = 0.95419246\n",
            "Iteration 448, loss = 0.95383556\n",
            "Iteration 449, loss = 0.95345730\n",
            "Iteration 450, loss = 0.95310860\n",
            "Iteration 451, loss = 0.95273497\n",
            "Iteration 452, loss = 0.95238457\n",
            "Iteration 453, loss = 0.95199918\n",
            "Iteration 454, loss = 0.95164000\n",
            "Iteration 455, loss = 0.95125410\n",
            "Iteration 456, loss = 0.95095421\n",
            "Iteration 457, loss = 0.95054756\n",
            "Iteration 458, loss = 0.95018041\n",
            "Iteration 459, loss = 0.94983464\n",
            "Iteration 460, loss = 0.94948653\n",
            "Iteration 461, loss = 0.94912149\n",
            "Iteration 462, loss = 0.94876898\n",
            "Iteration 463, loss = 0.94842765\n",
            "Iteration 464, loss = 0.94807028\n",
            "Iteration 465, loss = 0.94772960\n",
            "Iteration 466, loss = 0.94737209\n",
            "Iteration 467, loss = 0.94701925\n",
            "Iteration 468, loss = 0.94666743\n",
            "Iteration 469, loss = 0.94633529\n",
            "Iteration 470, loss = 0.94598829\n",
            "Iteration 471, loss = 0.94565608\n",
            "Iteration 472, loss = 0.94537700\n",
            "Iteration 473, loss = 0.94497808\n",
            "Iteration 474, loss = 0.94467049\n",
            "Iteration 475, loss = 0.94428336\n",
            "Iteration 476, loss = 0.94394133\n",
            "Iteration 477, loss = 0.94358609\n",
            "Iteration 478, loss = 0.94323675\n",
            "Iteration 479, loss = 0.94290828\n",
            "Iteration 480, loss = 0.94252067\n",
            "Iteration 481, loss = 0.94220267\n",
            "Iteration 482, loss = 0.94183544\n",
            "Iteration 483, loss = 0.94145099\n",
            "Iteration 484, loss = 0.94108843\n",
            "Iteration 485, loss = 0.94076253\n",
            "Iteration 486, loss = 0.94039364\n",
            "Iteration 487, loss = 0.94001945\n",
            "Iteration 488, loss = 0.93965140\n",
            "Iteration 489, loss = 0.93928355\n",
            "Iteration 490, loss = 0.93897228\n",
            "Iteration 491, loss = 0.93865071\n",
            "Iteration 492, loss = 0.93826415\n",
            "Iteration 493, loss = 0.93791652\n",
            "Iteration 494, loss = 0.93756622\n",
            "Iteration 495, loss = 0.93723901\n",
            "Iteration 496, loss = 0.93689175\n",
            "Iteration 497, loss = 0.93656532\n",
            "Iteration 498, loss = 0.93623288\n",
            "Iteration 499, loss = 0.93587379\n",
            "Iteration 500, loss = 0.93556612\n",
            "Iteration 501, loss = 0.93519468\n",
            "Iteration 502, loss = 0.93487198\n",
            "Iteration 503, loss = 0.93450683\n",
            "Iteration 504, loss = 0.93419013\n",
            "Iteration 505, loss = 0.93385008\n",
            "Iteration 506, loss = 0.93351211\n",
            "Iteration 507, loss = 0.93317600\n",
            "Iteration 508, loss = 0.93281721\n",
            "Iteration 509, loss = 0.93250444\n",
            "Iteration 510, loss = 0.93214593\n",
            "Iteration 511, loss = 0.93181714\n",
            "Iteration 512, loss = 0.93147297\n",
            "Iteration 513, loss = 0.93114069\n",
            "Iteration 514, loss = 0.93078144\n",
            "Iteration 515, loss = 0.93043770\n",
            "Iteration 516, loss = 0.93012498\n",
            "Iteration 517, loss = 0.92978156\n",
            "Iteration 518, loss = 0.92945716\n",
            "Iteration 519, loss = 0.92910809\n",
            "Iteration 520, loss = 0.92877469\n",
            "Iteration 521, loss = 0.92843966\n",
            "Iteration 522, loss = 0.92810638\n",
            "Iteration 523, loss = 0.92776787\n",
            "Iteration 524, loss = 0.92742592\n",
            "Iteration 525, loss = 0.92708486\n",
            "Iteration 526, loss = 0.92675659\n",
            "Iteration 527, loss = 0.92643505\n",
            "Iteration 528, loss = 0.92608993\n",
            "Iteration 529, loss = 0.92575756\n",
            "Iteration 530, loss = 0.92542321\n",
            "Iteration 531, loss = 0.92508351\n",
            "Iteration 532, loss = 0.92475609\n",
            "Iteration 533, loss = 0.92443123\n",
            "Iteration 534, loss = 0.92409500\n",
            "Iteration 535, loss = 0.92375589\n",
            "Iteration 536, loss = 0.92343540\n",
            "Iteration 537, loss = 0.92313805\n",
            "Iteration 538, loss = 0.92278492\n",
            "Iteration 539, loss = 0.92248830\n",
            "Iteration 540, loss = 0.92212990\n",
            "Iteration 541, loss = 0.92179298\n",
            "Iteration 542, loss = 0.92148190\n",
            "Iteration 543, loss = 0.92115263\n",
            "Iteration 544, loss = 0.92080697\n",
            "Iteration 545, loss = 0.92049082\n",
            "Iteration 546, loss = 0.92017290\n",
            "Iteration 547, loss = 0.91986881\n",
            "Iteration 548, loss = 0.91950871\n",
            "Iteration 549, loss = 0.91917480\n",
            "Iteration 550, loss = 0.91882778\n",
            "Iteration 551, loss = 0.91853618\n",
            "Iteration 552, loss = 0.91818905\n",
            "Iteration 553, loss = 0.91785593\n",
            "Iteration 554, loss = 0.91759604\n",
            "Iteration 555, loss = 0.91723522\n",
            "Iteration 556, loss = 0.91688180\n",
            "Iteration 557, loss = 0.91657988\n",
            "Iteration 558, loss = 0.91622827\n",
            "Iteration 559, loss = 0.91590951\n",
            "Iteration 560, loss = 0.91560469\n",
            "Iteration 561, loss = 0.91527063\n",
            "Iteration 562, loss = 0.91495810\n",
            "Iteration 563, loss = 0.91465340\n",
            "Iteration 564, loss = 0.91433426\n",
            "Iteration 565, loss = 0.91403134\n",
            "Iteration 566, loss = 0.91373080\n",
            "Iteration 567, loss = 0.91337029\n",
            "Iteration 568, loss = 0.91305794\n",
            "Iteration 569, loss = 0.91274809\n",
            "Iteration 570, loss = 0.91240498\n",
            "Iteration 571, loss = 0.91209686\n",
            "Iteration 572, loss = 0.91177076\n",
            "Iteration 573, loss = 0.91144159\n",
            "Iteration 574, loss = 0.91110931\n",
            "Iteration 575, loss = 0.91079256\n",
            "Iteration 576, loss = 0.91046966\n",
            "Iteration 577, loss = 0.91010555\n",
            "Iteration 578, loss = 0.90979881\n",
            "Iteration 579, loss = 0.90947528\n",
            "Iteration 580, loss = 0.90912396\n",
            "Iteration 581, loss = 0.90882025\n",
            "Iteration 582, loss = 0.90846784\n",
            "Iteration 583, loss = 0.90813604\n",
            "Iteration 584, loss = 0.90783947\n",
            "Iteration 585, loss = 0.90749575\n",
            "Iteration 586, loss = 0.90717594\n",
            "Iteration 587, loss = 0.90685664\n",
            "Iteration 588, loss = 0.90652965\n",
            "Iteration 589, loss = 0.90620922\n",
            "Iteration 590, loss = 0.90586121\n",
            "Iteration 591, loss = 0.90555328\n",
            "Iteration 592, loss = 0.90523216\n",
            "Iteration 593, loss = 0.90492315\n",
            "Iteration 594, loss = 0.90458555\n",
            "Iteration 595, loss = 0.90426317\n",
            "Iteration 596, loss = 0.90393442\n",
            "Iteration 597, loss = 0.90363126\n",
            "Iteration 598, loss = 0.90329990\n",
            "Iteration 599, loss = 0.90299405\n",
            "Iteration 600, loss = 0.90268065\n",
            "Iteration 601, loss = 0.90238284\n",
            "Iteration 602, loss = 0.90204537\n",
            "Iteration 603, loss = 0.90174152\n",
            "Iteration 604, loss = 0.90143424\n",
            "Iteration 605, loss = 0.90113265\n",
            "Iteration 606, loss = 0.90081510\n",
            "Iteration 607, loss = 0.90050106\n",
            "Iteration 608, loss = 0.90017165\n",
            "Iteration 609, loss = 0.89990888\n",
            "Iteration 610, loss = 0.89957566\n",
            "Iteration 611, loss = 0.89925034\n",
            "Iteration 612, loss = 0.89897891\n",
            "Iteration 613, loss = 0.89866713\n",
            "Iteration 614, loss = 0.89835486\n",
            "Iteration 615, loss = 0.89805570\n",
            "Iteration 616, loss = 0.89772324\n",
            "Iteration 617, loss = 0.89744256\n",
            "Iteration 618, loss = 0.89710319\n",
            "Iteration 619, loss = 0.89678607\n",
            "Iteration 620, loss = 0.89649900\n",
            "Iteration 621, loss = 0.89616773\n",
            "Iteration 622, loss = 0.89588932\n",
            "Iteration 623, loss = 0.89556108\n",
            "Iteration 624, loss = 0.89524652\n",
            "Iteration 625, loss = 0.89495561\n",
            "Iteration 626, loss = 0.89463744\n",
            "Iteration 627, loss = 0.89433869\n",
            "Iteration 628, loss = 0.89404855\n",
            "Iteration 629, loss = 0.89375818\n",
            "Iteration 630, loss = 0.89343916\n",
            "Iteration 631, loss = 0.89315483\n",
            "Iteration 632, loss = 0.89284430\n",
            "Iteration 633, loss = 0.89253969\n",
            "Iteration 634, loss = 0.89224909\n",
            "Iteration 635, loss = 0.89194939\n",
            "Iteration 636, loss = 0.89164238\n",
            "Iteration 637, loss = 0.89133908\n",
            "Iteration 638, loss = 0.89104740\n",
            "Iteration 639, loss = 0.89071374\n",
            "Iteration 640, loss = 0.89040813\n",
            "Iteration 641, loss = 0.89015208\n",
            "Iteration 642, loss = 0.88984390\n",
            "Iteration 643, loss = 0.88951129\n",
            "Iteration 644, loss = 0.88920354\n",
            "Iteration 645, loss = 0.88891755\n",
            "Iteration 646, loss = 0.88860926\n",
            "Iteration 647, loss = 0.88828962\n",
            "Iteration 648, loss = 0.88799016\n",
            "Iteration 649, loss = 0.88764383\n",
            "Iteration 650, loss = 0.88734032\n",
            "Iteration 651, loss = 0.88705419\n",
            "Iteration 652, loss = 0.88672432\n",
            "Iteration 653, loss = 0.88642751\n",
            "Iteration 654, loss = 0.88611297\n",
            "Iteration 655, loss = 0.88581167\n",
            "Iteration 656, loss = 0.88550895\n",
            "Iteration 657, loss = 0.88518668\n",
            "Iteration 658, loss = 0.88490771\n",
            "Iteration 659, loss = 0.88460591\n",
            "Iteration 660, loss = 0.88431213\n",
            "Iteration 661, loss = 0.88399139\n",
            "Iteration 662, loss = 0.88366295\n",
            "Iteration 663, loss = 0.88338623\n",
            "Iteration 664, loss = 0.88306753\n",
            "Iteration 665, loss = 0.88275990\n",
            "Iteration 666, loss = 0.88245285\n",
            "Iteration 667, loss = 0.88214429\n",
            "Iteration 668, loss = 0.88184249\n",
            "Iteration 669, loss = 0.88152595\n",
            "Iteration 670, loss = 0.88122240\n",
            "Iteration 671, loss = 0.88094925\n",
            "Iteration 672, loss = 0.88060083\n",
            "Iteration 673, loss = 0.88030976\n",
            "Iteration 674, loss = 0.88000357\n",
            "Iteration 675, loss = 0.87969140\n",
            "Iteration 676, loss = 0.87938251\n",
            "Iteration 677, loss = 0.87908904\n",
            "Iteration 678, loss = 0.87878537\n",
            "Iteration 679, loss = 0.87850945\n",
            "Iteration 680, loss = 0.87817439\n",
            "Iteration 681, loss = 0.87784465\n",
            "Iteration 682, loss = 0.87756763\n",
            "Iteration 683, loss = 0.87724579\n",
            "Iteration 684, loss = 0.87693329\n",
            "Iteration 685, loss = 0.87664476\n",
            "Iteration 686, loss = 0.87632127\n",
            "Iteration 687, loss = 0.87601495\n",
            "Iteration 688, loss = 0.87569817\n",
            "Iteration 689, loss = 0.87538581\n",
            "Iteration 690, loss = 0.87511020\n",
            "Iteration 691, loss = 0.87475917\n",
            "Iteration 692, loss = 0.87445241\n",
            "Iteration 693, loss = 0.87414716\n",
            "Iteration 694, loss = 0.87384960\n",
            "Iteration 695, loss = 0.87354494\n",
            "Iteration 696, loss = 0.87323896\n",
            "Iteration 697, loss = 0.87291952\n",
            "Iteration 698, loss = 0.87259904\n",
            "Iteration 699, loss = 0.87228733\n",
            "Iteration 700, loss = 0.87197997\n",
            "Iteration 701, loss = 0.87168051\n",
            "Iteration 702, loss = 0.87135779\n",
            "Iteration 703, loss = 0.87104704\n",
            "Iteration 704, loss = 0.87072917\n",
            "Iteration 705, loss = 0.87042821\n",
            "Iteration 706, loss = 0.87011864\n",
            "Iteration 707, loss = 0.86981094\n",
            "Iteration 708, loss = 0.86950653\n",
            "Iteration 709, loss = 0.86919548\n",
            "Iteration 710, loss = 0.86888498\n",
            "Iteration 711, loss = 0.86857943\n",
            "Iteration 712, loss = 0.86830034\n",
            "Iteration 713, loss = 0.86801345\n",
            "Iteration 714, loss = 0.86766508\n",
            "Iteration 715, loss = 0.86737675\n",
            "Iteration 716, loss = 0.86704951\n",
            "Iteration 717, loss = 0.86672646\n",
            "Iteration 718, loss = 0.86642249\n",
            "Iteration 719, loss = 0.86613057\n",
            "Iteration 720, loss = 0.86581906\n",
            "Iteration 721, loss = 0.86549904\n",
            "Iteration 722, loss = 0.86518712\n",
            "Iteration 723, loss = 0.86488771\n",
            "Iteration 724, loss = 0.86457549\n",
            "Iteration 725, loss = 0.86428117\n",
            "Iteration 726, loss = 0.86394071\n",
            "Iteration 727, loss = 0.86363698\n",
            "Iteration 728, loss = 0.86341708\n",
            "Iteration 729, loss = 0.86303122\n",
            "Iteration 730, loss = 0.86272172\n",
            "Iteration 731, loss = 0.86241281\n",
            "Iteration 732, loss = 0.86209604\n",
            "Iteration 733, loss = 0.86179329\n",
            "Iteration 734, loss = 0.86147171\n",
            "Iteration 735, loss = 0.86116026\n",
            "Iteration 736, loss = 0.86087620\n",
            "Iteration 737, loss = 0.86058313\n",
            "Iteration 738, loss = 0.86023173\n",
            "Iteration 739, loss = 0.85992160\n",
            "Iteration 740, loss = 0.85962034\n",
            "Iteration 741, loss = 0.85934690\n",
            "Iteration 742, loss = 0.85900133\n",
            "Iteration 743, loss = 0.85869715\n",
            "Iteration 744, loss = 0.85837720\n",
            "Iteration 745, loss = 0.85805649\n",
            "Iteration 746, loss = 0.85775780\n",
            "Iteration 747, loss = 0.85743431\n",
            "Iteration 748, loss = 0.85711479\n",
            "Iteration 749, loss = 0.85686483\n",
            "Iteration 750, loss = 0.85648143\n",
            "Iteration 751, loss = 0.85619394\n",
            "Iteration 752, loss = 0.85586496\n",
            "Iteration 753, loss = 0.85555039\n",
            "Iteration 754, loss = 0.85526620\n",
            "Iteration 755, loss = 0.85494509\n",
            "Iteration 756, loss = 0.85465080\n",
            "Iteration 757, loss = 0.85433152\n",
            "Iteration 758, loss = 0.85404502\n",
            "Iteration 759, loss = 0.85374561\n",
            "Iteration 760, loss = 0.85341200\n",
            "Iteration 761, loss = 0.85309223\n",
            "Iteration 762, loss = 0.85277880\n",
            "Iteration 763, loss = 0.85247004\n",
            "Iteration 764, loss = 0.85214242\n",
            "Iteration 765, loss = 0.85185555\n",
            "Iteration 766, loss = 0.85154991\n",
            "Iteration 767, loss = 0.85119390\n",
            "Iteration 768, loss = 0.85088499\n",
            "Iteration 769, loss = 0.85055868\n",
            "Iteration 770, loss = 0.85021877\n",
            "Iteration 771, loss = 0.84992776\n",
            "Iteration 772, loss = 0.84960731\n",
            "Iteration 773, loss = 0.84927609\n",
            "Iteration 774, loss = 0.84906483\n",
            "Iteration 775, loss = 0.84867651\n",
            "Iteration 776, loss = 0.84837038\n",
            "Iteration 777, loss = 0.84805678\n",
            "Iteration 778, loss = 0.84775031\n",
            "Iteration 779, loss = 0.84742872\n",
            "Iteration 780, loss = 0.84710407\n",
            "Iteration 781, loss = 0.84677816\n",
            "Iteration 782, loss = 0.84647032\n",
            "Iteration 783, loss = 0.84615438\n",
            "Iteration 784, loss = 0.84583792\n",
            "Iteration 785, loss = 0.84551586\n",
            "Iteration 786, loss = 0.84520911\n",
            "Iteration 787, loss = 0.84489629\n",
            "Iteration 788, loss = 0.84457229\n",
            "Iteration 789, loss = 0.84426889\n",
            "Iteration 790, loss = 0.84394698\n",
            "Iteration 791, loss = 0.84363032\n",
            "Iteration 792, loss = 0.84330598\n",
            "Iteration 793, loss = 0.84297971\n",
            "Iteration 794, loss = 0.84265954\n",
            "Iteration 795, loss = 0.84234105\n",
            "Iteration 796, loss = 0.84203067\n",
            "Iteration 797, loss = 0.84170372\n",
            "Iteration 798, loss = 0.84146292\n",
            "Iteration 799, loss = 0.84109334\n",
            "Iteration 800, loss = 0.84077445\n",
            "Iteration 801, loss = 0.84043012\n",
            "Iteration 802, loss = 0.84012328\n",
            "Iteration 803, loss = 0.83981259\n",
            "Iteration 804, loss = 0.83949264\n",
            "Iteration 805, loss = 0.83915669\n",
            "Iteration 806, loss = 0.83882856\n",
            "Iteration 807, loss = 0.83853125\n",
            "Iteration 808, loss = 0.83822429\n",
            "Iteration 809, loss = 0.83791488\n",
            "Iteration 810, loss = 0.83760028\n",
            "Iteration 811, loss = 0.83730545\n",
            "Iteration 812, loss = 0.83696517\n",
            "Iteration 813, loss = 0.83664878\n",
            "Iteration 814, loss = 0.83632400\n",
            "Iteration 815, loss = 0.83601932\n",
            "Iteration 816, loss = 0.83569867\n",
            "Iteration 817, loss = 0.83538541\n",
            "Iteration 818, loss = 0.83507166\n",
            "Iteration 819, loss = 0.83473872\n",
            "Iteration 820, loss = 0.83444016\n",
            "Iteration 821, loss = 0.83411009\n",
            "Iteration 822, loss = 0.83377605\n",
            "Iteration 823, loss = 0.83351271\n",
            "Iteration 824, loss = 0.83317010\n",
            "Iteration 825, loss = 0.83283108\n",
            "Iteration 826, loss = 0.83251467\n",
            "Iteration 827, loss = 0.83220838\n",
            "Iteration 828, loss = 0.83189145\n",
            "Iteration 829, loss = 0.83156091\n",
            "Iteration 830, loss = 0.83125017\n",
            "Iteration 831, loss = 0.83093286\n",
            "Iteration 832, loss = 0.83063897\n",
            "Iteration 833, loss = 0.83029411\n",
            "Iteration 834, loss = 0.82997991\n",
            "Iteration 835, loss = 0.82966570\n",
            "Iteration 836, loss = 0.82935148\n",
            "Iteration 837, loss = 0.82901837\n",
            "Iteration 838, loss = 0.82871201\n",
            "Iteration 839, loss = 0.82839730\n",
            "Iteration 840, loss = 0.82808141\n",
            "Iteration 841, loss = 0.82775832\n",
            "Iteration 842, loss = 0.82744453\n",
            "Iteration 843, loss = 0.82713493\n",
            "Iteration 844, loss = 0.82681590\n",
            "Iteration 845, loss = 0.82649840\n",
            "Iteration 846, loss = 0.82618027\n",
            "Iteration 847, loss = 0.82586772\n",
            "Iteration 848, loss = 0.82557853\n",
            "Iteration 849, loss = 0.82527216\n",
            "Iteration 850, loss = 0.82494458\n",
            "Iteration 851, loss = 0.82464359\n",
            "Iteration 852, loss = 0.82433877\n",
            "Iteration 853, loss = 0.82400073\n",
            "Iteration 854, loss = 0.82369091\n",
            "Iteration 855, loss = 0.82338802\n",
            "Iteration 856, loss = 0.82308119\n",
            "Iteration 857, loss = 0.82277277\n",
            "Iteration 858, loss = 0.82247070\n",
            "Iteration 859, loss = 0.82214303\n",
            "Iteration 860, loss = 0.82183556\n",
            "Iteration 861, loss = 0.82151364\n",
            "Iteration 862, loss = 0.82120147\n",
            "Iteration 863, loss = 0.82091384\n",
            "Iteration 864, loss = 0.82059383\n",
            "Iteration 865, loss = 0.82028078\n",
            "Iteration 866, loss = 0.82002610\n",
            "Iteration 867, loss = 0.81975679\n",
            "Iteration 868, loss = 0.81939930\n",
            "Iteration 869, loss = 0.81908166\n",
            "Iteration 870, loss = 0.81875893\n",
            "Iteration 871, loss = 0.81844974\n",
            "Iteration 872, loss = 0.81814190\n",
            "Iteration 873, loss = 0.81784877\n",
            "Iteration 874, loss = 0.81753156\n",
            "Iteration 875, loss = 0.81720721\n",
            "Iteration 876, loss = 0.81690913\n",
            "Iteration 877, loss = 0.81655703\n",
            "Iteration 878, loss = 0.81624075\n",
            "Iteration 879, loss = 0.81592670\n",
            "Iteration 880, loss = 0.81559124\n",
            "Iteration 881, loss = 0.81528572\n",
            "Iteration 882, loss = 0.81499253\n",
            "Iteration 883, loss = 0.81468904\n",
            "Iteration 884, loss = 0.81436852\n",
            "Iteration 885, loss = 0.81406187\n",
            "Iteration 886, loss = 0.81375037\n",
            "Iteration 887, loss = 0.81343631\n",
            "Iteration 888, loss = 0.81314375\n",
            "Iteration 889, loss = 0.81283567\n",
            "Iteration 890, loss = 0.81252666\n",
            "Iteration 891, loss = 0.81221765\n",
            "Iteration 892, loss = 0.81190395\n",
            "Iteration 893, loss = 0.81160684\n",
            "Iteration 894, loss = 0.81129584\n",
            "Iteration 895, loss = 0.81099610\n",
            "Iteration 896, loss = 0.81066706\n",
            "Iteration 897, loss = 0.81038655\n",
            "Iteration 898, loss = 0.81010367\n",
            "Iteration 899, loss = 0.80977266\n",
            "Iteration 900, loss = 0.80942329\n",
            "Iteration 901, loss = 0.80912073\n",
            "Iteration 902, loss = 0.80883016\n",
            "Iteration 903, loss = 0.80851638\n",
            "Iteration 904, loss = 0.80818594\n",
            "Iteration 905, loss = 0.80788539\n",
            "Iteration 906, loss = 0.80758833\n",
            "Iteration 907, loss = 0.80725177\n",
            "Iteration 908, loss = 0.80695729\n",
            "Iteration 909, loss = 0.80662314\n",
            "Iteration 910, loss = 0.80633198\n",
            "Iteration 911, loss = 0.80600180\n",
            "Iteration 912, loss = 0.80569623\n",
            "Iteration 913, loss = 0.80537780\n",
            "Iteration 914, loss = 0.80505625\n",
            "Iteration 915, loss = 0.80476507\n",
            "Iteration 916, loss = 0.80446208\n",
            "Iteration 917, loss = 0.80417476\n",
            "Iteration 918, loss = 0.80384837\n",
            "Iteration 919, loss = 0.80355152\n",
            "Iteration 920, loss = 0.80323713\n",
            "Iteration 921, loss = 0.80291692\n",
            "Iteration 922, loss = 0.80259162\n",
            "Iteration 923, loss = 0.80229899\n",
            "Iteration 924, loss = 0.80200321\n",
            "Iteration 925, loss = 0.80169566\n",
            "Iteration 926, loss = 0.80137349\n",
            "Iteration 927, loss = 0.80105191\n",
            "Iteration 928, loss = 0.80078052\n",
            "Iteration 929, loss = 0.80046843\n",
            "Iteration 930, loss = 0.80015221\n",
            "Iteration 931, loss = 0.79982696\n",
            "Iteration 932, loss = 0.79953067\n",
            "Iteration 933, loss = 0.79921573\n",
            "Iteration 934, loss = 0.79889387\n",
            "Iteration 935, loss = 0.79857468\n",
            "Iteration 936, loss = 0.79827336\n",
            "Iteration 937, loss = 0.79797061\n",
            "Iteration 938, loss = 0.79766471\n",
            "Iteration 939, loss = 0.79738299\n",
            "Iteration 940, loss = 0.79711558\n",
            "Iteration 941, loss = 0.79678068\n",
            "Iteration 942, loss = 0.79649631\n",
            "Iteration 943, loss = 0.79616949\n",
            "Iteration 944, loss = 0.79585277\n",
            "Iteration 945, loss = 0.79555872\n",
            "Iteration 946, loss = 0.79522095\n",
            "Iteration 947, loss = 0.79491848\n",
            "Iteration 948, loss = 0.79460680\n",
            "Iteration 949, loss = 0.79431651\n",
            "Iteration 950, loss = 0.79399818\n",
            "Iteration 951, loss = 0.79372570\n",
            "Iteration 952, loss = 0.79335593\n",
            "Iteration 953, loss = 0.79305946\n",
            "Iteration 954, loss = 0.79276203\n",
            "Iteration 955, loss = 0.79245646\n",
            "Iteration 956, loss = 0.79212974\n",
            "Iteration 957, loss = 0.79185776\n",
            "Iteration 958, loss = 0.79152126\n",
            "Iteration 959, loss = 0.79123546\n",
            "Iteration 960, loss = 0.79091830\n",
            "Iteration 961, loss = 0.79061638\n",
            "Iteration 962, loss = 0.79028597\n",
            "Iteration 963, loss = 0.79002097\n",
            "Iteration 964, loss = 0.78969898\n",
            "Iteration 965, loss = 0.78938982\n",
            "Iteration 966, loss = 0.78909281\n",
            "Iteration 967, loss = 0.78878154\n",
            "Iteration 968, loss = 0.78849152\n",
            "Iteration 969, loss = 0.78817991\n",
            "Iteration 970, loss = 0.78787738\n",
            "Iteration 971, loss = 0.78757466\n",
            "Iteration 972, loss = 0.78727988\n",
            "Iteration 973, loss = 0.78696759\n",
            "Iteration 974, loss = 0.78667279\n",
            "Iteration 975, loss = 0.78637277\n",
            "Iteration 976, loss = 0.78606936\n",
            "Iteration 977, loss = 0.78577725\n",
            "Iteration 978, loss = 0.78547032\n",
            "Iteration 979, loss = 0.78516721\n",
            "Iteration 980, loss = 0.78485639\n",
            "Iteration 981, loss = 0.78456238\n",
            "Iteration 982, loss = 0.78423545\n",
            "Iteration 983, loss = 0.78392798\n",
            "Iteration 984, loss = 0.78368036\n",
            "Iteration 985, loss = 0.78340766\n",
            "Iteration 986, loss = 0.78308281\n",
            "Iteration 987, loss = 0.78278475\n",
            "Iteration 988, loss = 0.78247824\n",
            "Iteration 989, loss = 0.78220407\n",
            "Iteration 990, loss = 0.78188778\n",
            "Iteration 991, loss = 0.78157297\n",
            "Iteration 992, loss = 0.78127399\n",
            "Iteration 993, loss = 0.78101142\n",
            "Iteration 994, loss = 0.78065757\n",
            "Iteration 995, loss = 0.78037179\n",
            "Iteration 996, loss = 0.78004253\n",
            "Iteration 997, loss = 0.77973664\n",
            "Iteration 998, loss = 0.77943582\n",
            "Iteration 999, loss = 0.77913115\n",
            "Iteration 1000, loss = 0.77884362\n"
          ]
        },
        {
          "output_type": "stream",
          "name": "stderr",
          "text": [
            "/usr/local/lib/python3.9/dist-packages/sklearn/neural_network/_multilayer_perceptron.py:686: ConvergenceWarning: Stochastic Optimizer: Maximum iterations (1000) reached and the optimization hasn't converged yet.\n",
            "  warnings.warn(\n"
          ]
        },
        {
          "output_type": "execute_result",
          "data": {
            "text/plain": [
              "MLPClassifier(learning_rate_init=0.0001, max_iter=1000, tol=1e-06, verbose=True)"
            ],
            "text/html": [
              "<style>#sk-container-id-1 {color: black;background-color: white;}#sk-container-id-1 pre{padding: 0;}#sk-container-id-1 div.sk-toggleable {background-color: white;}#sk-container-id-1 label.sk-toggleable__label {cursor: pointer;display: block;width: 100%;margin-bottom: 0;padding: 0.3em;box-sizing: border-box;text-align: center;}#sk-container-id-1 label.sk-toggleable__label-arrow:before {content: \"▸\";float: left;margin-right: 0.25em;color: #696969;}#sk-container-id-1 label.sk-toggleable__label-arrow:hover:before {color: black;}#sk-container-id-1 div.sk-estimator:hover label.sk-toggleable__label-arrow:before {color: black;}#sk-container-id-1 div.sk-toggleable__content {max-height: 0;max-width: 0;overflow: hidden;text-align: left;background-color: #f0f8ff;}#sk-container-id-1 div.sk-toggleable__content pre {margin: 0.2em;color: black;border-radius: 0.25em;background-color: #f0f8ff;}#sk-container-id-1 input.sk-toggleable__control:checked~div.sk-toggleable__content {max-height: 200px;max-width: 100%;overflow: auto;}#sk-container-id-1 input.sk-toggleable__control:checked~label.sk-toggleable__label-arrow:before {content: \"▾\";}#sk-container-id-1 div.sk-estimator input.sk-toggleable__control:checked~label.sk-toggleable__label {background-color: #d4ebff;}#sk-container-id-1 div.sk-label input.sk-toggleable__control:checked~label.sk-toggleable__label {background-color: #d4ebff;}#sk-container-id-1 input.sk-hidden--visually {border: 0;clip: rect(1px 1px 1px 1px);clip: rect(1px, 1px, 1px, 1px);height: 1px;margin: -1px;overflow: hidden;padding: 0;position: absolute;width: 1px;}#sk-container-id-1 div.sk-estimator {font-family: monospace;background-color: #f0f8ff;border: 1px dotted black;border-radius: 0.25em;box-sizing: border-box;margin-bottom: 0.5em;}#sk-container-id-1 div.sk-estimator:hover {background-color: #d4ebff;}#sk-container-id-1 div.sk-parallel-item::after {content: \"\";width: 100%;border-bottom: 1px solid gray;flex-grow: 1;}#sk-container-id-1 div.sk-label:hover label.sk-toggleable__label {background-color: #d4ebff;}#sk-container-id-1 div.sk-serial::before {content: \"\";position: absolute;border-left: 1px solid gray;box-sizing: border-box;top: 0;bottom: 0;left: 50%;z-index: 0;}#sk-container-id-1 div.sk-serial {display: flex;flex-direction: column;align-items: center;background-color: white;padding-right: 0.2em;padding-left: 0.2em;position: relative;}#sk-container-id-1 div.sk-item {position: relative;z-index: 1;}#sk-container-id-1 div.sk-parallel {display: flex;align-items: stretch;justify-content: center;background-color: white;position: relative;}#sk-container-id-1 div.sk-item::before, #sk-container-id-1 div.sk-parallel-item::before {content: \"\";position: absolute;border-left: 1px solid gray;box-sizing: border-box;top: 0;bottom: 0;left: 50%;z-index: -1;}#sk-container-id-1 div.sk-parallel-item {display: flex;flex-direction: column;z-index: 1;position: relative;background-color: white;}#sk-container-id-1 div.sk-parallel-item:first-child::after {align-self: flex-end;width: 50%;}#sk-container-id-1 div.sk-parallel-item:last-child::after {align-self: flex-start;width: 50%;}#sk-container-id-1 div.sk-parallel-item:only-child::after {width: 0;}#sk-container-id-1 div.sk-dashed-wrapped {border: 1px dashed gray;margin: 0 0.4em 0.5em 0.4em;box-sizing: border-box;padding-bottom: 0.4em;background-color: white;}#sk-container-id-1 div.sk-label label {font-family: monospace;font-weight: bold;display: inline-block;line-height: 1.2em;}#sk-container-id-1 div.sk-label-container {text-align: center;}#sk-container-id-1 div.sk-container {/* jupyter's `normalize.less` sets `[hidden] { display: none; }` but bootstrap.min.css set `[hidden] { display: none !important; }` so we also need the `!important` here to be able to override the default hidden behavior on the sphinx rendered scikit-learn.org. See: https://github.com/scikit-learn/scikit-learn/issues/21755 */display: inline-block !important;position: relative;}#sk-container-id-1 div.sk-text-repr-fallback {display: none;}</style><div id=\"sk-container-id-1\" class=\"sk-top-container\"><div class=\"sk-text-repr-fallback\"><pre>MLPClassifier(learning_rate_init=0.0001, max_iter=1000, tol=1e-06, verbose=True)</pre><b>In a Jupyter environment, please rerun this cell to show the HTML representation or trust the notebook. <br />On GitHub, the HTML representation is unable to render, please try loading this page with nbviewer.org.</b></div><div class=\"sk-container\" hidden><div class=\"sk-item\"><div class=\"sk-estimator sk-toggleable\"><input class=\"sk-toggleable__control sk-hidden--visually\" id=\"sk-estimator-id-1\" type=\"checkbox\" checked><label for=\"sk-estimator-id-1\" class=\"sk-toggleable__label sk-toggleable__label-arrow\">MLPClassifier</label><div class=\"sk-toggleable__content\"><pre>MLPClassifier(learning_rate_init=0.0001, max_iter=1000, tol=1e-06, verbose=True)</pre></div></div></div></div></div>"
            ]
          },
          "metadata": {},
          "execution_count": 41
        }
      ]
    },
    {
      "cell_type": "code",
      "source": [
        "y_pred = redeneural.predict(x_t)"
      ],
      "metadata": {
        "id": "ZronLx0v0J1A"
      },
      "execution_count": null,
      "outputs": []
    },
    {
      "cell_type": "code",
      "source": [
        "accuracy = accuracy_score(y_t, y_pred)"
      ],
      "metadata": {
        "id": "WlQdpRyWy0oF"
      },
      "execution_count": null,
      "outputs": []
    },
    {
      "cell_type": "code",
      "source": [
        "print(\"Acurácia: {:.2f}%\".format(accuracy * 100))"
      ],
      "metadata": {
        "colab": {
          "base_uri": "https://localhost:8080/"
        },
        "id": "Sbi7GoRLzlHe",
        "outputId": "77a67533-04e4-4dfd-bc4d-660601f1feb1"
      },
      "execution_count": null,
      "outputs": [
        {
          "output_type": "stream",
          "name": "stdout",
          "text": [
            "Acurácia: 82.16%\n"
          ]
        }
      ]
    }
  ]
}